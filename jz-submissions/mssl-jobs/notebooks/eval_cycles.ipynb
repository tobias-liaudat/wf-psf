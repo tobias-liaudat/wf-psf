{
 "cells": [
  {
   "cell_type": "code",
   "execution_count": 1,
   "metadata": {},
   "outputs": [],
   "source": [
    "import os\n",
    "os.environ[\"CUDA_VISIBLE_DEVICES\"]=\"2\"\n",
    "\n",
    "import numpy as np\n",
    "import matplotlib.pyplot as plt\n",
    "\n",
    "import wf_psf as wf\n",
    "\n"
   ]
  },
  {
   "cell_type": "code",
   "execution_count": 9,
   "metadata": {},
   "outputs": [],
   "source": [
    "\n",
    "args = {\n",
    "    'id_name': '_wf_PR_12_cycles_v1' ,\n",
    "    'suffix_id_name': 'v1' ,\n",
    "    'base_id_name': '_wf_PR_12_cycles_' ,\n",
    "    'eval_only_param': False ,\n",
    "    'total_cycles': 12 ,\n",
    "    'saved_cycle': 'cycle12' ,\n",
    "    'reset_dd_features': True ,\n",
    "    'eval_only_param': False ,\n",
    "    'project_dd_features': True ,\n",
    "    'd_max': 2 ,\n",
    "    'n_zernikes': 45 ,\n",
    "    'save_all_cycles': True ,\n",
    "    'n_bins_lda': 8 ,\n",
    "    'output_dim': 32,\n",
    "    'batch_size': 32,\n",
    "    'oversampling_rate': 3.,\n",
    "    'output_q': 3.,\n",
    "    'sed_sigma': 0.,\n",
    "    'x_lims': [0, 1e3],\n",
    "    'y_lims': [0, 1e3],\n",
    "    'sed_interp_kind': 'linear',\n",
    "    'interp_pts_per_bin': 0,\n",
    "    'extrapolate': True,\n",
    "    'opt_stars_rel_pix_rmse': True ,\n",
    "    'eval_mono_metric_rmse': False,\n",
    "    'eval_opd_metric_rmse': True,\n",
    "    'eval_train_shape_sr_metric_rmse': True,\n",
    "    'pupil_diameter': 256 ,\n",
    "    'n_epochs_param_multi_cycle': \"0\" ,\n",
    "    'n_epochs_non_param_multi_cycle': \"75\" ,\n",
    "    'l_rate_non_param_multi_cycle': \"0.1\" ,\n",
    "    'l_rate_param_multi_cycle': \"0\" ,\n",
    "    'l_rate_param': None,\n",
    "    'l_rate_non_param': None,\n",
    "    'n_epochs_param': None,\n",
    "    'n_epochs_non_param': None,\n",
    "    'model': 'poly' ,\n",
    "    'model_eval': 'poly' ,\n",
    "    'cycle_def': 'complete' ,\n",
    "    'gt_n_zernikes': 45 ,\n",
    "    'd_max_nonparam': 5 ,\n",
    "    'saved_model_type': 'external' ,\n",
    "    'use_sample_weights': True ,\n",
    "    'l2_param': 0. ,\n",
    "    'interpolation_type': 'none' ,\n",
    "    'eval_batch_size': 16 ,\n",
    "    'train_opt': True ,\n",
    "    'eval_opt': True ,\n",
    "    'plot_opt': True ,\n",
    "    'dataset_folder': '/disk/xray0/tl3/datasets/wf-phase-retrieval/data/',\n",
    "    'test_dataset_file': 'test_Euclid_res_id_010_8_bins.npy',\n",
    "    'train_dataset_file': 'train_Euclid_res_2000_TrainStars_id_010_8_bins.npy',\n",
    "    'base_path': '/unsafe/data1/tl3/outputs/wf-phase-retrieval/wf-outputs/',\n",
    "    'metric_base_path': '/unsafe/data1/tl3/outputs/wf-phase-retrieval/wf-outputs/metrics/',\n",
    "    'chkp_save_path': '/unsafe/data1/tl3/outputs/wf-phase-retrieval/wf-outputs/chkp/12_cycles/',\n",
    "    'plots_folder': 'plots/12_cycles/' ,\n",
    "    'model_folder': 'chkp/12_cycles/' ,\n",
    "    'log_folder': 'log-files/' ,\n",
    "    'optim_hist_folder': 'optim-hist/' ,\n",
    "    'star_numbers': 1 ,\n",
    "}\n",
    "\n"
   ]
  },
  {
   "cell_type": "code",
   "execution_count": 10,
   "metadata": {},
   "outputs": [],
   "source": [
    "base_path = '/disk/xray0/tl3/repos/wf-psf/jz-submissions/mssl-jobs/'\n",
    "log_folder = 'outputs/logs/'\n",
    "metric_base_path = '/disk/xray0/tl3/repos/wf-psf/jz-submissions/mssl-jobs/outputs/eval_metrics/'\n",
    "base_chkp_path = '/unsafe/data1/tl3/outputs/wf-phase-retrieval/wf-outputs/chkp/12_cycles/chkp_poly_wf_PR_12_cycles_v1_'\n",
    "\n",
    "\n",
    "# base_id_name = '_wf_PR_12_cycles_v1_'\n",
    "# eval_cycle = 'cycle1'\n",
    "\n",
    "args['base_path'] = base_path\n",
    "args['log_folder'] = log_folder\n",
    "args['metric_base_path'] = metric_base_path\n",
    "\n",
    "\n"
   ]
  },
  {
   "cell_type": "code",
   "execution_count": 11,
   "metadata": {},
   "outputs": [
    {
     "name": "stdout",
     "output_type": "stream",
     "text": [
      "_wf_PR_12_cycles_v1_cycle1\n"
     ]
    },
    {
     "name": "stderr",
     "output_type": "stream",
     "text": [
      "2023-04-23 22:07:45.074367: I tensorflow/core/platform/cpu_feature_guard.cc:151] This TensorFlow binary is optimized with oneAPI Deep Neural Network Library (oneDNN) to use the following CPU instructions in performance-critical operations:  SSE4.1 SSE4.2 AVX AVX2 FMA\n",
      "To enable them in other operations, rebuild TensorFlow with the appropriate compiler flags.\n",
      "2023-04-23 22:07:45.648014: I tensorflow/core/common_runtime/gpu/gpu_device.cc:1525] Created device /device:GPU:0 with 38396 MB memory:  -> device: 0, name: NVIDIA A100-PCIE-40GB, pci bus id: 0000:a1:00.0, compute capability: 8.0\n",
      "2023-04-23 22:07:45.716872: I tensorflow/core/common_runtime/gpu/gpu_device.cc:1525] Created device /job:localhost/replica:0/task:0/device:GPU:0 with 38396 MB memory:  -> device: 0, name: NVIDIA A100-PCIE-40GB, pci bus id: 0000:a1:00.0, compute capability: 8.0\n",
      "2023-04-23 22:07:48.485995: I tensorflow/stream_executor/cuda/cuda_blas.cc:1774] TensorFloat-32 will be used for the matrix multiplication. This will only be logged once.\n",
      "2023-04-23 22:07:49.439997: I tensorflow/stream_executor/cuda/cuda_dnn.cc:366] Loaded cuDNN version 8201\n"
     ]
    },
    {
     "name": "stdout",
     "output_type": "stream",
     "text": [
      "WARNING:tensorflow:Unresolved object in checkpoint: (root).optimizer.iter\n",
      "WARNING:tensorflow:Unresolved object in checkpoint: (root).optimizer.beta_1\n",
      "WARNING:tensorflow:Unresolved object in checkpoint: (root).optimizer.beta_2\n",
      "WARNING:tensorflow:Unresolved object in checkpoint: (root).optimizer.decay\n",
      "WARNING:tensorflow:Unresolved object in checkpoint: (root).optimizer.learning_rate\n",
      "WARNING:tensorflow:Unresolved object in checkpoint: (root).optimizer.min_lr\n",
      "WARNING:tensorflow:Unresolved object in checkpoint: (root).optimizer.sma_threshold\n",
      "WARNING:tensorflow:Unresolved object in checkpoint: (root).optimizer.total_steps\n",
      "WARNING:tensorflow:Unresolved object in checkpoint: (root).optimizer.warmup_proportion\n",
      "WARNING:tensorflow:Unresolved object in checkpoint: (root).optimizer.weight_decay\n",
      "WARNING:tensorflow:Unresolved object in checkpoint: (root).optimizer's state 'm' for (root).tf_np_poly_opd.S_mat\n",
      "WARNING:tensorflow:Unresolved object in checkpoint: (root).optimizer's state 'm' for (root).tf_np_poly_opd.alpha_mat\n",
      "WARNING:tensorflow:Unresolved object in checkpoint: (root).optimizer's state 'v' for (root).tf_np_poly_opd.S_mat\n",
      "WARNING:tensorflow:Unresolved object in checkpoint: (root).optimizer's state 'v' for (root).tf_np_poly_opd.alpha_mat\n",
      "WARNING:tensorflow:A checkpoint was restored (e.g. tf.train.Checkpoint.restore or tf.keras.Model.load_weights) but not all checkpointed values were used. See above for specific issues. Use expect_partial() on the load status object, e.g. tf.train.Checkpoint.restore(...).expect_partial(), to silence these warnings, or use assert_consumed() to make the check explicit. See https://www.tensorflow.org/guide/checkpoint#loading_mechanics for details.\n",
      "_wf_PR_12_cycles_v1_cycle2\n"
     ]
    },
    {
     "name": "stderr",
     "output_type": "stream",
     "text": [
      "2023-04-23 22:09:52.850892: I tensorflow/core/common_runtime/gpu/gpu_device.cc:1525] Created device /device:GPU:0 with 38396 MB memory:  -> device: 0, name: NVIDIA A100-PCIE-40GB, pci bus id: 0000:a1:00.0, compute capability: 8.0\n"
     ]
    },
    {
     "name": "stdout",
     "output_type": "stream",
     "text": [
      "WARNING:tensorflow:Unresolved object in checkpoint: (root).optimizer.iter\n",
      "WARNING:tensorflow:Unresolved object in checkpoint: (root).optimizer.beta_1\n",
      "WARNING:tensorflow:Unresolved object in checkpoint: (root).optimizer.beta_2\n",
      "WARNING:tensorflow:Unresolved object in checkpoint: (root).optimizer.decay\n",
      "WARNING:tensorflow:Unresolved object in checkpoint: (root).optimizer.learning_rate\n",
      "WARNING:tensorflow:Unresolved object in checkpoint: (root).optimizer.min_lr\n",
      "WARNING:tensorflow:Unresolved object in checkpoint: (root).optimizer.sma_threshold\n",
      "WARNING:tensorflow:Unresolved object in checkpoint: (root).optimizer.total_steps\n",
      "WARNING:tensorflow:Unresolved object in checkpoint: (root).optimizer.warmup_proportion\n",
      "WARNING:tensorflow:Unresolved object in checkpoint: (root).optimizer.weight_decay\n",
      "WARNING:tensorflow:Unresolved object in checkpoint: (root).optimizer's state 'm' for (root).tf_np_poly_opd.S_mat\n",
      "WARNING:tensorflow:Unresolved object in checkpoint: (root).optimizer's state 'm' for (root).tf_np_poly_opd.alpha_mat\n",
      "WARNING:tensorflow:Unresolved object in checkpoint: (root).optimizer's state 'v' for (root).tf_np_poly_opd.S_mat\n",
      "WARNING:tensorflow:Unresolved object in checkpoint: (root).optimizer's state 'v' for (root).tf_np_poly_opd.alpha_mat\n",
      "WARNING:tensorflow:A checkpoint was restored (e.g. tf.train.Checkpoint.restore or tf.keras.Model.load_weights) but not all checkpointed values were used. See above for specific issues. Use expect_partial() on the load status object, e.g. tf.train.Checkpoint.restore(...).expect_partial(), to silence these warnings, or use assert_consumed() to make the check explicit. See https://www.tensorflow.org/guide/checkpoint#loading_mechanics for details.\n",
      "_wf_PR_12_cycles_v1_cycle3\n"
     ]
    },
    {
     "name": "stderr",
     "output_type": "stream",
     "text": [
      "2023-04-23 22:11:55.220260: I tensorflow/core/common_runtime/gpu/gpu_device.cc:1525] Created device /device:GPU:0 with 38396 MB memory:  -> device: 0, name: NVIDIA A100-PCIE-40GB, pci bus id: 0000:a1:00.0, compute capability: 8.0\n"
     ]
    },
    {
     "name": "stdout",
     "output_type": "stream",
     "text": [
      "WARNING:tensorflow:Unresolved object in checkpoint: (root).optimizer.iter\n",
      "WARNING:tensorflow:Unresolved object in checkpoint: (root).optimizer.beta_1\n",
      "WARNING:tensorflow:Unresolved object in checkpoint: (root).optimizer.beta_2\n",
      "WARNING:tensorflow:Unresolved object in checkpoint: (root).optimizer.decay\n",
      "WARNING:tensorflow:Unresolved object in checkpoint: (root).optimizer.learning_rate\n",
      "WARNING:tensorflow:Unresolved object in checkpoint: (root).optimizer.min_lr\n",
      "WARNING:tensorflow:Unresolved object in checkpoint: (root).optimizer.sma_threshold\n",
      "WARNING:tensorflow:Unresolved object in checkpoint: (root).optimizer.total_steps\n",
      "WARNING:tensorflow:Unresolved object in checkpoint: (root).optimizer.warmup_proportion\n",
      "WARNING:tensorflow:Unresolved object in checkpoint: (root).optimizer.weight_decay\n",
      "WARNING:tensorflow:Unresolved object in checkpoint: (root).optimizer's state 'm' for (root).tf_np_poly_opd.S_mat\n",
      "WARNING:tensorflow:Unresolved object in checkpoint: (root).optimizer's state 'm' for (root).tf_np_poly_opd.alpha_mat\n",
      "WARNING:tensorflow:Unresolved object in checkpoint: (root).optimizer's state 'v' for (root).tf_np_poly_opd.S_mat\n",
      "WARNING:tensorflow:Unresolved object in checkpoint: (root).optimizer's state 'v' for (root).tf_np_poly_opd.alpha_mat\n",
      "WARNING:tensorflow:A checkpoint was restored (e.g. tf.train.Checkpoint.restore or tf.keras.Model.load_weights) but not all checkpointed values were used. See above for specific issues. Use expect_partial() on the load status object, e.g. tf.train.Checkpoint.restore(...).expect_partial(), to silence these warnings, or use assert_consumed() to make the check explicit. See https://www.tensorflow.org/guide/checkpoint#loading_mechanics for details.\n",
      "_wf_PR_12_cycles_v1_cycle4\n"
     ]
    },
    {
     "name": "stderr",
     "output_type": "stream",
     "text": [
      "2023-04-23 22:13:59.020966: I tensorflow/core/common_runtime/gpu/gpu_device.cc:1525] Created device /device:GPU:0 with 38396 MB memory:  -> device: 0, name: NVIDIA A100-PCIE-40GB, pci bus id: 0000:a1:00.0, compute capability: 8.0\n"
     ]
    },
    {
     "name": "stdout",
     "output_type": "stream",
     "text": [
      "WARNING:tensorflow:Unresolved object in checkpoint: (root).optimizer.iter\n",
      "WARNING:tensorflow:Unresolved object in checkpoint: (root).optimizer.beta_1\n",
      "WARNING:tensorflow:Unresolved object in checkpoint: (root).optimizer.beta_2\n",
      "WARNING:tensorflow:Unresolved object in checkpoint: (root).optimizer.decay\n",
      "WARNING:tensorflow:Unresolved object in checkpoint: (root).optimizer.learning_rate\n",
      "WARNING:tensorflow:Unresolved object in checkpoint: (root).optimizer.min_lr\n",
      "WARNING:tensorflow:Unresolved object in checkpoint: (root).optimizer.sma_threshold\n",
      "WARNING:tensorflow:Unresolved object in checkpoint: (root).optimizer.total_steps\n",
      "WARNING:tensorflow:Unresolved object in checkpoint: (root).optimizer.warmup_proportion\n",
      "WARNING:tensorflow:Unresolved object in checkpoint: (root).optimizer.weight_decay\n",
      "WARNING:tensorflow:Unresolved object in checkpoint: (root).optimizer's state 'm' for (root).tf_np_poly_opd.S_mat\n",
      "WARNING:tensorflow:Unresolved object in checkpoint: (root).optimizer's state 'm' for (root).tf_np_poly_opd.alpha_mat\n",
      "WARNING:tensorflow:Unresolved object in checkpoint: (root).optimizer's state 'v' for (root).tf_np_poly_opd.S_mat\n",
      "WARNING:tensorflow:Unresolved object in checkpoint: (root).optimizer's state 'v' for (root).tf_np_poly_opd.alpha_mat\n",
      "WARNING:tensorflow:A checkpoint was restored (e.g. tf.train.Checkpoint.restore or tf.keras.Model.load_weights) but not all checkpointed values were used. See above for specific issues. Use expect_partial() on the load status object, e.g. tf.train.Checkpoint.restore(...).expect_partial(), to silence these warnings, or use assert_consumed() to make the check explicit. See https://www.tensorflow.org/guide/checkpoint#loading_mechanics for details.\n",
      "_wf_PR_12_cycles_v1_cycle5\n"
     ]
    },
    {
     "name": "stderr",
     "output_type": "stream",
     "text": [
      "2023-04-23 22:16:03.253017: I tensorflow/core/common_runtime/gpu/gpu_device.cc:1525] Created device /device:GPU:0 with 38396 MB memory:  -> device: 0, name: NVIDIA A100-PCIE-40GB, pci bus id: 0000:a1:00.0, compute capability: 8.0\n"
     ]
    },
    {
     "name": "stdout",
     "output_type": "stream",
     "text": [
      "WARNING:tensorflow:Unresolved object in checkpoint: (root).optimizer.iter\n",
      "WARNING:tensorflow:Unresolved object in checkpoint: (root).optimizer.beta_1\n",
      "WARNING:tensorflow:Unresolved object in checkpoint: (root).optimizer.beta_2\n",
      "WARNING:tensorflow:Unresolved object in checkpoint: (root).optimizer.decay\n",
      "WARNING:tensorflow:Unresolved object in checkpoint: (root).optimizer.learning_rate\n",
      "WARNING:tensorflow:Unresolved object in checkpoint: (root).optimizer.min_lr\n",
      "WARNING:tensorflow:Unresolved object in checkpoint: (root).optimizer.sma_threshold\n",
      "WARNING:tensorflow:Unresolved object in checkpoint: (root).optimizer.total_steps\n",
      "WARNING:tensorflow:Unresolved object in checkpoint: (root).optimizer.warmup_proportion\n",
      "WARNING:tensorflow:Unresolved object in checkpoint: (root).optimizer.weight_decay\n",
      "WARNING:tensorflow:Unresolved object in checkpoint: (root).optimizer's state 'm' for (root).tf_np_poly_opd.S_mat\n",
      "WARNING:tensorflow:Unresolved object in checkpoint: (root).optimizer's state 'm' for (root).tf_np_poly_opd.alpha_mat\n",
      "WARNING:tensorflow:Unresolved object in checkpoint: (root).optimizer's state 'v' for (root).tf_np_poly_opd.S_mat\n",
      "WARNING:tensorflow:Unresolved object in checkpoint: (root).optimizer's state 'v' for (root).tf_np_poly_opd.alpha_mat\n",
      "WARNING:tensorflow:A checkpoint was restored (e.g. tf.train.Checkpoint.restore or tf.keras.Model.load_weights) but not all checkpointed values were used. See above for specific issues. Use expect_partial() on the load status object, e.g. tf.train.Checkpoint.restore(...).expect_partial(), to silence these warnings, or use assert_consumed() to make the check explicit. See https://www.tensorflow.org/guide/checkpoint#loading_mechanics for details.\n",
      "_wf_PR_12_cycles_v1_cycle6\n"
     ]
    },
    {
     "name": "stderr",
     "output_type": "stream",
     "text": [
      "2023-04-23 22:18:09.331148: I tensorflow/core/common_runtime/gpu/gpu_device.cc:1525] Created device /device:GPU:0 with 38396 MB memory:  -> device: 0, name: NVIDIA A100-PCIE-40GB, pci bus id: 0000:a1:00.0, compute capability: 8.0\n"
     ]
    },
    {
     "name": "stdout",
     "output_type": "stream",
     "text": [
      "WARNING:tensorflow:Unresolved object in checkpoint: (root).optimizer.iter\n",
      "WARNING:tensorflow:Unresolved object in checkpoint: (root).optimizer.beta_1\n",
      "WARNING:tensorflow:Unresolved object in checkpoint: (root).optimizer.beta_2\n",
      "WARNING:tensorflow:Unresolved object in checkpoint: (root).optimizer.decay\n",
      "WARNING:tensorflow:Unresolved object in checkpoint: (root).optimizer.learning_rate\n",
      "WARNING:tensorflow:Unresolved object in checkpoint: (root).optimizer.min_lr\n",
      "WARNING:tensorflow:Unresolved object in checkpoint: (root).optimizer.sma_threshold\n",
      "WARNING:tensorflow:Unresolved object in checkpoint: (root).optimizer.total_steps\n",
      "WARNING:tensorflow:Unresolved object in checkpoint: (root).optimizer.warmup_proportion\n",
      "WARNING:tensorflow:Unresolved object in checkpoint: (root).optimizer.weight_decay\n",
      "WARNING:tensorflow:Unresolved object in checkpoint: (root).optimizer's state 'm' for (root).tf_np_poly_opd.S_mat\n",
      "WARNING:tensorflow:Unresolved object in checkpoint: (root).optimizer's state 'm' for (root).tf_np_poly_opd.alpha_mat\n",
      "WARNING:tensorflow:Unresolved object in checkpoint: (root).optimizer's state 'v' for (root).tf_np_poly_opd.S_mat\n",
      "WARNING:tensorflow:Unresolved object in checkpoint: (root).optimizer's state 'v' for (root).tf_np_poly_opd.alpha_mat\n",
      "WARNING:tensorflow:A checkpoint was restored (e.g. tf.train.Checkpoint.restore or tf.keras.Model.load_weights) but not all checkpointed values were used. See above for specific issues. Use expect_partial() on the load status object, e.g. tf.train.Checkpoint.restore(...).expect_partial(), to silence these warnings, or use assert_consumed() to make the check explicit. See https://www.tensorflow.org/guide/checkpoint#loading_mechanics for details.\n",
      "_wf_PR_12_cycles_v1_cycle7\n"
     ]
    },
    {
     "name": "stderr",
     "output_type": "stream",
     "text": [
      "2023-04-23 22:20:10.004411: I tensorflow/core/common_runtime/gpu/gpu_device.cc:1525] Created device /device:GPU:0 with 38396 MB memory:  -> device: 0, name: NVIDIA A100-PCIE-40GB, pci bus id: 0000:a1:00.0, compute capability: 8.0\n"
     ]
    },
    {
     "name": "stdout",
     "output_type": "stream",
     "text": [
      "WARNING:tensorflow:Unresolved object in checkpoint: (root).optimizer.iter\n",
      "WARNING:tensorflow:Unresolved object in checkpoint: (root).optimizer.beta_1\n",
      "WARNING:tensorflow:Unresolved object in checkpoint: (root).optimizer.beta_2\n",
      "WARNING:tensorflow:Unresolved object in checkpoint: (root).optimizer.decay\n",
      "WARNING:tensorflow:Unresolved object in checkpoint: (root).optimizer.learning_rate\n",
      "WARNING:tensorflow:Unresolved object in checkpoint: (root).optimizer.min_lr\n",
      "WARNING:tensorflow:Unresolved object in checkpoint: (root).optimizer.sma_threshold\n",
      "WARNING:tensorflow:Unresolved object in checkpoint: (root).optimizer.total_steps\n",
      "WARNING:tensorflow:Unresolved object in checkpoint: (root).optimizer.warmup_proportion\n",
      "WARNING:tensorflow:Unresolved object in checkpoint: (root).optimizer.weight_decay\n",
      "WARNING:tensorflow:Unresolved object in checkpoint: (root).optimizer's state 'm' for (root).tf_np_poly_opd.S_mat\n",
      "WARNING:tensorflow:Unresolved object in checkpoint: (root).optimizer's state 'm' for (root).tf_np_poly_opd.alpha_mat\n",
      "WARNING:tensorflow:Unresolved object in checkpoint: (root).optimizer's state 'v' for (root).tf_np_poly_opd.S_mat\n",
      "WARNING:tensorflow:Unresolved object in checkpoint: (root).optimizer's state 'v' for (root).tf_np_poly_opd.alpha_mat\n",
      "WARNING:tensorflow:A checkpoint was restored (e.g. tf.train.Checkpoint.restore or tf.keras.Model.load_weights) but not all checkpointed values were used. See above for specific issues. Use expect_partial() on the load status object, e.g. tf.train.Checkpoint.restore(...).expect_partial(), to silence these warnings, or use assert_consumed() to make the check explicit. See https://www.tensorflow.org/guide/checkpoint#loading_mechanics for details.\n",
      "_wf_PR_12_cycles_v1_cycle8\n"
     ]
    },
    {
     "name": "stderr",
     "output_type": "stream",
     "text": [
      "2023-04-23 22:22:13.794381: I tensorflow/core/common_runtime/gpu/gpu_device.cc:1525] Created device /device:GPU:0 with 38396 MB memory:  -> device: 0, name: NVIDIA A100-PCIE-40GB, pci bus id: 0000:a1:00.0, compute capability: 8.0\n"
     ]
    },
    {
     "name": "stdout",
     "output_type": "stream",
     "text": [
      "WARNING:tensorflow:Unresolved object in checkpoint: (root).optimizer.iter\n",
      "WARNING:tensorflow:Unresolved object in checkpoint: (root).optimizer.beta_1\n",
      "WARNING:tensorflow:Unresolved object in checkpoint: (root).optimizer.beta_2\n",
      "WARNING:tensorflow:Unresolved object in checkpoint: (root).optimizer.decay\n",
      "WARNING:tensorflow:Unresolved object in checkpoint: (root).optimizer.learning_rate\n",
      "WARNING:tensorflow:Unresolved object in checkpoint: (root).optimizer.min_lr\n",
      "WARNING:tensorflow:Unresolved object in checkpoint: (root).optimizer.sma_threshold\n",
      "WARNING:tensorflow:Unresolved object in checkpoint: (root).optimizer.total_steps\n",
      "WARNING:tensorflow:Unresolved object in checkpoint: (root).optimizer.warmup_proportion\n",
      "WARNING:tensorflow:Unresolved object in checkpoint: (root).optimizer.weight_decay\n",
      "WARNING:tensorflow:Unresolved object in checkpoint: (root).optimizer's state 'm' for (root).tf_np_poly_opd.S_mat\n",
      "WARNING:tensorflow:Unresolved object in checkpoint: (root).optimizer's state 'm' for (root).tf_np_poly_opd.alpha_mat\n",
      "WARNING:tensorflow:Unresolved object in checkpoint: (root).optimizer's state 'v' for (root).tf_np_poly_opd.S_mat\n",
      "WARNING:tensorflow:Unresolved object in checkpoint: (root).optimizer's state 'v' for (root).tf_np_poly_opd.alpha_mat\n",
      "WARNING:tensorflow:A checkpoint was restored (e.g. tf.train.Checkpoint.restore or tf.keras.Model.load_weights) but not all checkpointed values were used. See above for specific issues. Use expect_partial() on the load status object, e.g. tf.train.Checkpoint.restore(...).expect_partial(), to silence these warnings, or use assert_consumed() to make the check explicit. See https://www.tensorflow.org/guide/checkpoint#loading_mechanics for details.\n",
      "_wf_PR_12_cycles_v1_cycle9\n"
     ]
    },
    {
     "name": "stderr",
     "output_type": "stream",
     "text": [
      "2023-04-23 22:24:12.349896: I tensorflow/core/common_runtime/gpu/gpu_device.cc:1525] Created device /device:GPU:0 with 38396 MB memory:  -> device: 0, name: NVIDIA A100-PCIE-40GB, pci bus id: 0000:a1:00.0, compute capability: 8.0\n"
     ]
    },
    {
     "name": "stdout",
     "output_type": "stream",
     "text": [
      "WARNING:tensorflow:Unresolved object in checkpoint: (root).optimizer.iter\n",
      "WARNING:tensorflow:Unresolved object in checkpoint: (root).optimizer.beta_1\n",
      "WARNING:tensorflow:Unresolved object in checkpoint: (root).optimizer.beta_2\n",
      "WARNING:tensorflow:Unresolved object in checkpoint: (root).optimizer.decay\n",
      "WARNING:tensorflow:Unresolved object in checkpoint: (root).optimizer.learning_rate\n",
      "WARNING:tensorflow:Unresolved object in checkpoint: (root).optimizer.min_lr\n",
      "WARNING:tensorflow:Unresolved object in checkpoint: (root).optimizer.sma_threshold\n",
      "WARNING:tensorflow:Unresolved object in checkpoint: (root).optimizer.total_steps\n",
      "WARNING:tensorflow:Unresolved object in checkpoint: (root).optimizer.warmup_proportion\n",
      "WARNING:tensorflow:Unresolved object in checkpoint: (root).optimizer.weight_decay\n",
      "WARNING:tensorflow:Unresolved object in checkpoint: (root).optimizer's state 'm' for (root).tf_np_poly_opd.S_mat\n",
      "WARNING:tensorflow:Unresolved object in checkpoint: (root).optimizer's state 'm' for (root).tf_np_poly_opd.alpha_mat\n",
      "WARNING:tensorflow:Unresolved object in checkpoint: (root).optimizer's state 'v' for (root).tf_np_poly_opd.S_mat\n",
      "WARNING:tensorflow:Unresolved object in checkpoint: (root).optimizer's state 'v' for (root).tf_np_poly_opd.alpha_mat\n",
      "WARNING:tensorflow:A checkpoint was restored (e.g. tf.train.Checkpoint.restore or tf.keras.Model.load_weights) but not all checkpointed values were used. See above for specific issues. Use expect_partial() on the load status object, e.g. tf.train.Checkpoint.restore(...).expect_partial(), to silence these warnings, or use assert_consumed() to make the check explicit. See https://www.tensorflow.org/guide/checkpoint#loading_mechanics for details.\n",
      "_wf_PR_12_cycles_v1_cycle10\n"
     ]
    },
    {
     "name": "stderr",
     "output_type": "stream",
     "text": [
      "2023-04-23 22:26:14.165429: I tensorflow/core/common_runtime/gpu/gpu_device.cc:1525] Created device /device:GPU:0 with 38396 MB memory:  -> device: 0, name: NVIDIA A100-PCIE-40GB, pci bus id: 0000:a1:00.0, compute capability: 8.0\n"
     ]
    },
    {
     "name": "stdout",
     "output_type": "stream",
     "text": [
      "WARNING:tensorflow:Unresolved object in checkpoint: (root).optimizer.iter\n",
      "WARNING:tensorflow:Unresolved object in checkpoint: (root).optimizer.beta_1\n",
      "WARNING:tensorflow:Unresolved object in checkpoint: (root).optimizer.beta_2\n",
      "WARNING:tensorflow:Unresolved object in checkpoint: (root).optimizer.decay\n",
      "WARNING:tensorflow:Unresolved object in checkpoint: (root).optimizer.learning_rate\n",
      "WARNING:tensorflow:Unresolved object in checkpoint: (root).optimizer.min_lr\n",
      "WARNING:tensorflow:Unresolved object in checkpoint: (root).optimizer.sma_threshold\n",
      "WARNING:tensorflow:Unresolved object in checkpoint: (root).optimizer.total_steps\n",
      "WARNING:tensorflow:Unresolved object in checkpoint: (root).optimizer.warmup_proportion\n",
      "WARNING:tensorflow:Unresolved object in checkpoint: (root).optimizer.weight_decay\n",
      "WARNING:tensorflow:Unresolved object in checkpoint: (root).optimizer's state 'm' for (root).tf_np_poly_opd.S_mat\n",
      "WARNING:tensorflow:Unresolved object in checkpoint: (root).optimizer's state 'm' for (root).tf_np_poly_opd.alpha_mat\n",
      "WARNING:tensorflow:Unresolved object in checkpoint: (root).optimizer's state 'v' for (root).tf_np_poly_opd.S_mat\n",
      "WARNING:tensorflow:Unresolved object in checkpoint: (root).optimizer's state 'v' for (root).tf_np_poly_opd.alpha_mat\n",
      "WARNING:tensorflow:A checkpoint was restored (e.g. tf.train.Checkpoint.restore or tf.keras.Model.load_weights) but not all checkpointed values were used. See above for specific issues. Use expect_partial() on the load status object, e.g. tf.train.Checkpoint.restore(...).expect_partial(), to silence these warnings, or use assert_consumed() to make the check explicit. See https://www.tensorflow.org/guide/checkpoint#loading_mechanics for details.\n",
      "_wf_PR_12_cycles_v1_cycle11\n"
     ]
    },
    {
     "name": "stderr",
     "output_type": "stream",
     "text": [
      "2023-04-23 22:28:18.045641: I tensorflow/core/common_runtime/gpu/gpu_device.cc:1525] Created device /device:GPU:0 with 38396 MB memory:  -> device: 0, name: NVIDIA A100-PCIE-40GB, pci bus id: 0000:a1:00.0, compute capability: 8.0\n"
     ]
    },
    {
     "name": "stdout",
     "output_type": "stream",
     "text": [
      "WARNING:tensorflow:Unresolved object in checkpoint: (root).optimizer.iter\n",
      "WARNING:tensorflow:Unresolved object in checkpoint: (root).optimizer.beta_1\n",
      "WARNING:tensorflow:Unresolved object in checkpoint: (root).optimizer.beta_2\n",
      "WARNING:tensorflow:Unresolved object in checkpoint: (root).optimizer.decay\n",
      "WARNING:tensorflow:Unresolved object in checkpoint: (root).optimizer.learning_rate\n",
      "WARNING:tensorflow:Unresolved object in checkpoint: (root).optimizer.min_lr\n",
      "WARNING:tensorflow:Unresolved object in checkpoint: (root).optimizer.sma_threshold\n",
      "WARNING:tensorflow:Unresolved object in checkpoint: (root).optimizer.total_steps\n",
      "WARNING:tensorflow:Unresolved object in checkpoint: (root).optimizer.warmup_proportion\n",
      "WARNING:tensorflow:Unresolved object in checkpoint: (root).optimizer.weight_decay\n",
      "WARNING:tensorflow:Unresolved object in checkpoint: (root).optimizer's state 'm' for (root).tf_np_poly_opd.S_mat\n",
      "WARNING:tensorflow:Unresolved object in checkpoint: (root).optimizer's state 'm' for (root).tf_np_poly_opd.alpha_mat\n",
      "WARNING:tensorflow:Unresolved object in checkpoint: (root).optimizer's state 'v' for (root).tf_np_poly_opd.S_mat\n",
      "WARNING:tensorflow:Unresolved object in checkpoint: (root).optimizer's state 'v' for (root).tf_np_poly_opd.alpha_mat\n",
      "WARNING:tensorflow:A checkpoint was restored (e.g. tf.train.Checkpoint.restore or tf.keras.Model.load_weights) but not all checkpointed values were used. See above for specific issues. Use expect_partial() on the load status object, e.g. tf.train.Checkpoint.restore(...).expect_partial(), to silence these warnings, or use assert_consumed() to make the check explicit. See https://www.tensorflow.org/guide/checkpoint#loading_mechanics for details.\n",
      "_wf_PR_12_cycles_v1_cycle12\n"
     ]
    },
    {
     "name": "stderr",
     "output_type": "stream",
     "text": [
      "2023-04-23 22:30:18.594823: I tensorflow/core/common_runtime/gpu/gpu_device.cc:1525] Created device /device:GPU:0 with 38396 MB memory:  -> device: 0, name: NVIDIA A100-PCIE-40GB, pci bus id: 0000:a1:00.0, compute capability: 8.0\n"
     ]
    },
    {
     "name": "stdout",
     "output_type": "stream",
     "text": [
      "WARNING:tensorflow:Unresolved object in checkpoint: (root).optimizer.iter\n",
      "WARNING:tensorflow:Unresolved object in checkpoint: (root).optimizer.beta_1\n",
      "WARNING:tensorflow:Unresolved object in checkpoint: (root).optimizer.beta_2\n",
      "WARNING:tensorflow:Unresolved object in checkpoint: (root).optimizer.decay\n",
      "WARNING:tensorflow:Unresolved object in checkpoint: (root).optimizer.learning_rate\n",
      "WARNING:tensorflow:Unresolved object in checkpoint: (root).optimizer.min_lr\n",
      "WARNING:tensorflow:Unresolved object in checkpoint: (root).optimizer.sma_threshold\n",
      "WARNING:tensorflow:Unresolved object in checkpoint: (root).optimizer.total_steps\n",
      "WARNING:tensorflow:Unresolved object in checkpoint: (root).optimizer.warmup_proportion\n",
      "WARNING:tensorflow:Unresolved object in checkpoint: (root).optimizer.weight_decay\n",
      "WARNING:tensorflow:Unresolved object in checkpoint: (root).optimizer's state 'm' for (root).tf_np_poly_opd.S_mat\n",
      "WARNING:tensorflow:Unresolved object in checkpoint: (root).optimizer's state 'm' for (root).tf_np_poly_opd.alpha_mat\n",
      "WARNING:tensorflow:Unresolved object in checkpoint: (root).optimizer's state 'v' for (root).tf_np_poly_opd.S_mat\n",
      "WARNING:tensorflow:Unresolved object in checkpoint: (root).optimizer's state 'v' for (root).tf_np_poly_opd.alpha_mat\n",
      "WARNING:tensorflow:A checkpoint was restored (e.g. tf.train.Checkpoint.restore or tf.keras.Model.load_weights) but not all checkpointed values were used. See above for specific issues. Use expect_partial() on the load status object, e.g. tf.train.Checkpoint.restore(...).expect_partial(), to silence these warnings, or use assert_consumed() to make the check explicit. See https://www.tensorflow.org/guide/checkpoint#loading_mechanics for details.\n",
      "_wf_PR_12_cycles_v1_param_update_cycle1\n"
     ]
    },
    {
     "name": "stderr",
     "output_type": "stream",
     "text": [
      "2023-04-23 22:32:25.039110: I tensorflow/core/common_runtime/gpu/gpu_device.cc:1525] Created device /device:GPU:0 with 38396 MB memory:  -> device: 0, name: NVIDIA A100-PCIE-40GB, pci bus id: 0000:a1:00.0, compute capability: 8.0\n"
     ]
    },
    {
     "name": "stdout",
     "output_type": "stream",
     "text": [
      "WARNING:tensorflow:Unresolved object in checkpoint: (root).optimizer.iter\n",
      "WARNING:tensorflow:Unresolved object in checkpoint: (root).optimizer.beta_1\n",
      "WARNING:tensorflow:Unresolved object in checkpoint: (root).optimizer.beta_2\n",
      "WARNING:tensorflow:Unresolved object in checkpoint: (root).optimizer.decay\n",
      "WARNING:tensorflow:Unresolved object in checkpoint: (root).optimizer.learning_rate\n",
      "WARNING:tensorflow:Unresolved object in checkpoint: (root).optimizer.min_lr\n",
      "WARNING:tensorflow:Unresolved object in checkpoint: (root).optimizer.sma_threshold\n",
      "WARNING:tensorflow:Unresolved object in checkpoint: (root).optimizer.total_steps\n",
      "WARNING:tensorflow:Unresolved object in checkpoint: (root).optimizer.warmup_proportion\n",
      "WARNING:tensorflow:Unresolved object in checkpoint: (root).optimizer.weight_decay\n",
      "WARNING:tensorflow:Unresolved object in checkpoint: (root).optimizer's state 'm' for (root).tf_np_poly_opd.S_mat\n",
      "WARNING:tensorflow:Unresolved object in checkpoint: (root).optimizer's state 'm' for (root).tf_np_poly_opd.alpha_mat\n",
      "WARNING:tensorflow:Unresolved object in checkpoint: (root).optimizer's state 'v' for (root).tf_np_poly_opd.S_mat\n",
      "WARNING:tensorflow:Unresolved object in checkpoint: (root).optimizer's state 'v' for (root).tf_np_poly_opd.alpha_mat\n",
      "WARNING:tensorflow:A checkpoint was restored (e.g. tf.train.Checkpoint.restore or tf.keras.Model.load_weights) but not all checkpointed values were used. See above for specific issues. Use expect_partial() on the load status object, e.g. tf.train.Checkpoint.restore(...).expect_partial(), to silence these warnings, or use assert_consumed() to make the check explicit. See https://www.tensorflow.org/guide/checkpoint#loading_mechanics for details.\n",
      "_wf_PR_12_cycles_v1_param_update_cycle2\n"
     ]
    },
    {
     "name": "stderr",
     "output_type": "stream",
     "text": [
      "2023-04-23 22:34:28.972310: I tensorflow/core/common_runtime/gpu/gpu_device.cc:1525] Created device /device:GPU:0 with 38396 MB memory:  -> device: 0, name: NVIDIA A100-PCIE-40GB, pci bus id: 0000:a1:00.0, compute capability: 8.0\n"
     ]
    },
    {
     "name": "stdout",
     "output_type": "stream",
     "text": [
      "WARNING:tensorflow:Unresolved object in checkpoint: (root).optimizer.iter\n",
      "WARNING:tensorflow:Unresolved object in checkpoint: (root).optimizer.beta_1\n",
      "WARNING:tensorflow:Unresolved object in checkpoint: (root).optimizer.beta_2\n",
      "WARNING:tensorflow:Unresolved object in checkpoint: (root).optimizer.decay\n",
      "WARNING:tensorflow:Unresolved object in checkpoint: (root).optimizer.learning_rate\n",
      "WARNING:tensorflow:Unresolved object in checkpoint: (root).optimizer.min_lr\n",
      "WARNING:tensorflow:Unresolved object in checkpoint: (root).optimizer.sma_threshold\n",
      "WARNING:tensorflow:Unresolved object in checkpoint: (root).optimizer.total_steps\n",
      "WARNING:tensorflow:Unresolved object in checkpoint: (root).optimizer.warmup_proportion\n",
      "WARNING:tensorflow:Unresolved object in checkpoint: (root).optimizer.weight_decay\n",
      "WARNING:tensorflow:Unresolved object in checkpoint: (root).optimizer's state 'm' for (root).tf_np_poly_opd.S_mat\n",
      "WARNING:tensorflow:Unresolved object in checkpoint: (root).optimizer's state 'm' for (root).tf_np_poly_opd.alpha_mat\n",
      "WARNING:tensorflow:Unresolved object in checkpoint: (root).optimizer's state 'v' for (root).tf_np_poly_opd.S_mat\n",
      "WARNING:tensorflow:Unresolved object in checkpoint: (root).optimizer's state 'v' for (root).tf_np_poly_opd.alpha_mat\n",
      "WARNING:tensorflow:A checkpoint was restored (e.g. tf.train.Checkpoint.restore or tf.keras.Model.load_weights) but not all checkpointed values were used. See above for specific issues. Use expect_partial() on the load status object, e.g. tf.train.Checkpoint.restore(...).expect_partial(), to silence these warnings, or use assert_consumed() to make the check explicit. See https://www.tensorflow.org/guide/checkpoint#loading_mechanics for details.\n",
      "_wf_PR_12_cycles_v1_param_update_cycle3\n"
     ]
    },
    {
     "name": "stderr",
     "output_type": "stream",
     "text": [
      "2023-04-23 22:36:32.773600: I tensorflow/core/common_runtime/gpu/gpu_device.cc:1525] Created device /device:GPU:0 with 38396 MB memory:  -> device: 0, name: NVIDIA A100-PCIE-40GB, pci bus id: 0000:a1:00.0, compute capability: 8.0\n"
     ]
    },
    {
     "name": "stdout",
     "output_type": "stream",
     "text": [
      "WARNING:tensorflow:Unresolved object in checkpoint: (root).optimizer.iter\n",
      "WARNING:tensorflow:Unresolved object in checkpoint: (root).optimizer.beta_1\n",
      "WARNING:tensorflow:Unresolved object in checkpoint: (root).optimizer.beta_2\n",
      "WARNING:tensorflow:Unresolved object in checkpoint: (root).optimizer.decay\n",
      "WARNING:tensorflow:Unresolved object in checkpoint: (root).optimizer.learning_rate\n",
      "WARNING:tensorflow:Unresolved object in checkpoint: (root).optimizer.min_lr\n",
      "WARNING:tensorflow:Unresolved object in checkpoint: (root).optimizer.sma_threshold\n",
      "WARNING:tensorflow:Unresolved object in checkpoint: (root).optimizer.total_steps\n",
      "WARNING:tensorflow:Unresolved object in checkpoint: (root).optimizer.warmup_proportion\n",
      "WARNING:tensorflow:Unresolved object in checkpoint: (root).optimizer.weight_decay\n",
      "WARNING:tensorflow:Unresolved object in checkpoint: (root).optimizer's state 'm' for (root).tf_np_poly_opd.S_mat\n",
      "WARNING:tensorflow:Unresolved object in checkpoint: (root).optimizer's state 'm' for (root).tf_np_poly_opd.alpha_mat\n",
      "WARNING:tensorflow:Unresolved object in checkpoint: (root).optimizer's state 'v' for (root).tf_np_poly_opd.S_mat\n",
      "WARNING:tensorflow:Unresolved object in checkpoint: (root).optimizer's state 'v' for (root).tf_np_poly_opd.alpha_mat\n",
      "WARNING:tensorflow:A checkpoint was restored (e.g. tf.train.Checkpoint.restore or tf.keras.Model.load_weights) but not all checkpointed values were used. See above for specific issues. Use expect_partial() on the load status object, e.g. tf.train.Checkpoint.restore(...).expect_partial(), to silence these warnings, or use assert_consumed() to make the check explicit. See https://www.tensorflow.org/guide/checkpoint#loading_mechanics for details.\n",
      "_wf_PR_12_cycles_v1_param_update_cycle4\n"
     ]
    },
    {
     "name": "stderr",
     "output_type": "stream",
     "text": [
      "2023-04-23 22:38:30.383672: I tensorflow/core/common_runtime/gpu/gpu_device.cc:1525] Created device /device:GPU:0 with 38396 MB memory:  -> device: 0, name: NVIDIA A100-PCIE-40GB, pci bus id: 0000:a1:00.0, compute capability: 8.0\n"
     ]
    },
    {
     "name": "stdout",
     "output_type": "stream",
     "text": [
      "WARNING:tensorflow:Unresolved object in checkpoint: (root).optimizer.iter\n",
      "WARNING:tensorflow:Unresolved object in checkpoint: (root).optimizer.beta_1\n",
      "WARNING:tensorflow:Unresolved object in checkpoint: (root).optimizer.beta_2\n",
      "WARNING:tensorflow:Unresolved object in checkpoint: (root).optimizer.decay\n",
      "WARNING:tensorflow:Unresolved object in checkpoint: (root).optimizer.learning_rate\n",
      "WARNING:tensorflow:Unresolved object in checkpoint: (root).optimizer.min_lr\n",
      "WARNING:tensorflow:Unresolved object in checkpoint: (root).optimizer.sma_threshold\n",
      "WARNING:tensorflow:Unresolved object in checkpoint: (root).optimizer.total_steps\n",
      "WARNING:tensorflow:Unresolved object in checkpoint: (root).optimizer.warmup_proportion\n",
      "WARNING:tensorflow:Unresolved object in checkpoint: (root).optimizer.weight_decay\n",
      "WARNING:tensorflow:Unresolved object in checkpoint: (root).optimizer's state 'm' for (root).tf_np_poly_opd.S_mat\n",
      "WARNING:tensorflow:Unresolved object in checkpoint: (root).optimizer's state 'm' for (root).tf_np_poly_opd.alpha_mat\n",
      "WARNING:tensorflow:Unresolved object in checkpoint: (root).optimizer's state 'v' for (root).tf_np_poly_opd.S_mat\n",
      "WARNING:tensorflow:Unresolved object in checkpoint: (root).optimizer's state 'v' for (root).tf_np_poly_opd.alpha_mat\n",
      "WARNING:tensorflow:A checkpoint was restored (e.g. tf.train.Checkpoint.restore or tf.keras.Model.load_weights) but not all checkpointed values were used. See above for specific issues. Use expect_partial() on the load status object, e.g. tf.train.Checkpoint.restore(...).expect_partial(), to silence these warnings, or use assert_consumed() to make the check explicit. See https://www.tensorflow.org/guide/checkpoint#loading_mechanics for details.\n",
      "_wf_PR_12_cycles_v1_param_update_cycle5\n"
     ]
    },
    {
     "name": "stderr",
     "output_type": "stream",
     "text": [
      "2023-04-23 22:40:31.229452: I tensorflow/core/common_runtime/gpu/gpu_device.cc:1525] Created device /device:GPU:0 with 38396 MB memory:  -> device: 0, name: NVIDIA A100-PCIE-40GB, pci bus id: 0000:a1:00.0, compute capability: 8.0\n"
     ]
    },
    {
     "name": "stdout",
     "output_type": "stream",
     "text": [
      "WARNING:tensorflow:Unresolved object in checkpoint: (root).optimizer.iter\n",
      "WARNING:tensorflow:Unresolved object in checkpoint: (root).optimizer.beta_1\n",
      "WARNING:tensorflow:Unresolved object in checkpoint: (root).optimizer.beta_2\n",
      "WARNING:tensorflow:Unresolved object in checkpoint: (root).optimizer.decay\n",
      "WARNING:tensorflow:Unresolved object in checkpoint: (root).optimizer.learning_rate\n",
      "WARNING:tensorflow:Unresolved object in checkpoint: (root).optimizer.min_lr\n",
      "WARNING:tensorflow:Unresolved object in checkpoint: (root).optimizer.sma_threshold\n",
      "WARNING:tensorflow:Unresolved object in checkpoint: (root).optimizer.total_steps\n",
      "WARNING:tensorflow:Unresolved object in checkpoint: (root).optimizer.warmup_proportion\n",
      "WARNING:tensorflow:Unresolved object in checkpoint: (root).optimizer.weight_decay\n",
      "WARNING:tensorflow:Unresolved object in checkpoint: (root).optimizer's state 'm' for (root).tf_np_poly_opd.S_mat\n",
      "WARNING:tensorflow:Unresolved object in checkpoint: (root).optimizer's state 'm' for (root).tf_np_poly_opd.alpha_mat\n",
      "WARNING:tensorflow:Unresolved object in checkpoint: (root).optimizer's state 'v' for (root).tf_np_poly_opd.S_mat\n",
      "WARNING:tensorflow:Unresolved object in checkpoint: (root).optimizer's state 'v' for (root).tf_np_poly_opd.alpha_mat\n",
      "WARNING:tensorflow:A checkpoint was restored (e.g. tf.train.Checkpoint.restore or tf.keras.Model.load_weights) but not all checkpointed values were used. See above for specific issues. Use expect_partial() on the load status object, e.g. tf.train.Checkpoint.restore(...).expect_partial(), to silence these warnings, or use assert_consumed() to make the check explicit. See https://www.tensorflow.org/guide/checkpoint#loading_mechanics for details.\n",
      "_wf_PR_12_cycles_v1_param_update_cycle6\n"
     ]
    },
    {
     "name": "stderr",
     "output_type": "stream",
     "text": [
      "2023-04-23 22:42:35.436791: I tensorflow/core/common_runtime/gpu/gpu_device.cc:1525] Created device /device:GPU:0 with 38396 MB memory:  -> device: 0, name: NVIDIA A100-PCIE-40GB, pci bus id: 0000:a1:00.0, compute capability: 8.0\n"
     ]
    },
    {
     "name": "stdout",
     "output_type": "stream",
     "text": [
      "WARNING:tensorflow:Unresolved object in checkpoint: (root).optimizer.iter\n",
      "WARNING:tensorflow:Unresolved object in checkpoint: (root).optimizer.beta_1\n",
      "WARNING:tensorflow:Unresolved object in checkpoint: (root).optimizer.beta_2\n",
      "WARNING:tensorflow:Unresolved object in checkpoint: (root).optimizer.decay\n",
      "WARNING:tensorflow:Unresolved object in checkpoint: (root).optimizer.learning_rate\n",
      "WARNING:tensorflow:Unresolved object in checkpoint: (root).optimizer.min_lr\n",
      "WARNING:tensorflow:Unresolved object in checkpoint: (root).optimizer.sma_threshold\n",
      "WARNING:tensorflow:Unresolved object in checkpoint: (root).optimizer.total_steps\n",
      "WARNING:tensorflow:Unresolved object in checkpoint: (root).optimizer.warmup_proportion\n",
      "WARNING:tensorflow:Unresolved object in checkpoint: (root).optimizer.weight_decay\n",
      "WARNING:tensorflow:Unresolved object in checkpoint: (root).optimizer's state 'm' for (root).tf_np_poly_opd.S_mat\n",
      "WARNING:tensorflow:Unresolved object in checkpoint: (root).optimizer's state 'm' for (root).tf_np_poly_opd.alpha_mat\n",
      "WARNING:tensorflow:Unresolved object in checkpoint: (root).optimizer's state 'v' for (root).tf_np_poly_opd.S_mat\n",
      "WARNING:tensorflow:Unresolved object in checkpoint: (root).optimizer's state 'v' for (root).tf_np_poly_opd.alpha_mat\n",
      "WARNING:tensorflow:A checkpoint was restored (e.g. tf.train.Checkpoint.restore or tf.keras.Model.load_weights) but not all checkpointed values were used. See above for specific issues. Use expect_partial() on the load status object, e.g. tf.train.Checkpoint.restore(...).expect_partial(), to silence these warnings, or use assert_consumed() to make the check explicit. See https://www.tensorflow.org/guide/checkpoint#loading_mechanics for details.\n",
      "_wf_PR_12_cycles_v1_param_update_cycle7\n"
     ]
    },
    {
     "name": "stderr",
     "output_type": "stream",
     "text": [
      "2023-04-23 22:44:30.817684: I tensorflow/core/common_runtime/gpu/gpu_device.cc:1525] Created device /device:GPU:0 with 38396 MB memory:  -> device: 0, name: NVIDIA A100-PCIE-40GB, pci bus id: 0000:a1:00.0, compute capability: 8.0\n"
     ]
    },
    {
     "name": "stdout",
     "output_type": "stream",
     "text": [
      "WARNING:tensorflow:Unresolved object in checkpoint: (root).optimizer.iter\n",
      "WARNING:tensorflow:Unresolved object in checkpoint: (root).optimizer.beta_1\n",
      "WARNING:tensorflow:Unresolved object in checkpoint: (root).optimizer.beta_2\n",
      "WARNING:tensorflow:Unresolved object in checkpoint: (root).optimizer.decay\n",
      "WARNING:tensorflow:Unresolved object in checkpoint: (root).optimizer.learning_rate\n",
      "WARNING:tensorflow:Unresolved object in checkpoint: (root).optimizer.min_lr\n",
      "WARNING:tensorflow:Unresolved object in checkpoint: (root).optimizer.sma_threshold\n",
      "WARNING:tensorflow:Unresolved object in checkpoint: (root).optimizer.total_steps\n",
      "WARNING:tensorflow:Unresolved object in checkpoint: (root).optimizer.warmup_proportion\n",
      "WARNING:tensorflow:Unresolved object in checkpoint: (root).optimizer.weight_decay\n",
      "WARNING:tensorflow:Unresolved object in checkpoint: (root).optimizer's state 'm' for (root).tf_np_poly_opd.S_mat\n",
      "WARNING:tensorflow:Unresolved object in checkpoint: (root).optimizer's state 'm' for (root).tf_np_poly_opd.alpha_mat\n",
      "WARNING:tensorflow:Unresolved object in checkpoint: (root).optimizer's state 'v' for (root).tf_np_poly_opd.S_mat\n",
      "WARNING:tensorflow:Unresolved object in checkpoint: (root).optimizer's state 'v' for (root).tf_np_poly_opd.alpha_mat\n",
      "WARNING:tensorflow:A checkpoint was restored (e.g. tf.train.Checkpoint.restore or tf.keras.Model.load_weights) but not all checkpointed values were used. See above for specific issues. Use expect_partial() on the load status object, e.g. tf.train.Checkpoint.restore(...).expect_partial(), to silence these warnings, or use assert_consumed() to make the check explicit. See https://www.tensorflow.org/guide/checkpoint#loading_mechanics for details.\n",
      "_wf_PR_12_cycles_v1_param_update_cycle8\n"
     ]
    },
    {
     "name": "stderr",
     "output_type": "stream",
     "text": [
      "2023-04-23 22:46:30.870515: I tensorflow/core/common_runtime/gpu/gpu_device.cc:1525] Created device /device:GPU:0 with 38396 MB memory:  -> device: 0, name: NVIDIA A100-PCIE-40GB, pci bus id: 0000:a1:00.0, compute capability: 8.0\n"
     ]
    },
    {
     "name": "stdout",
     "output_type": "stream",
     "text": [
      "WARNING:tensorflow:Unresolved object in checkpoint: (root).optimizer.iter\n",
      "WARNING:tensorflow:Unresolved object in checkpoint: (root).optimizer.beta_1\n",
      "WARNING:tensorflow:Unresolved object in checkpoint: (root).optimizer.beta_2\n",
      "WARNING:tensorflow:Unresolved object in checkpoint: (root).optimizer.decay\n",
      "WARNING:tensorflow:Unresolved object in checkpoint: (root).optimizer.learning_rate\n",
      "WARNING:tensorflow:Unresolved object in checkpoint: (root).optimizer.min_lr\n",
      "WARNING:tensorflow:Unresolved object in checkpoint: (root).optimizer.sma_threshold\n",
      "WARNING:tensorflow:Unresolved object in checkpoint: (root).optimizer.total_steps\n",
      "WARNING:tensorflow:Unresolved object in checkpoint: (root).optimizer.warmup_proportion\n",
      "WARNING:tensorflow:Unresolved object in checkpoint: (root).optimizer.weight_decay\n",
      "WARNING:tensorflow:Unresolved object in checkpoint: (root).optimizer's state 'm' for (root).tf_np_poly_opd.S_mat\n",
      "WARNING:tensorflow:Unresolved object in checkpoint: (root).optimizer's state 'm' for (root).tf_np_poly_opd.alpha_mat\n",
      "WARNING:tensorflow:Unresolved object in checkpoint: (root).optimizer's state 'v' for (root).tf_np_poly_opd.S_mat\n",
      "WARNING:tensorflow:Unresolved object in checkpoint: (root).optimizer's state 'v' for (root).tf_np_poly_opd.alpha_mat\n",
      "WARNING:tensorflow:A checkpoint was restored (e.g. tf.train.Checkpoint.restore or tf.keras.Model.load_weights) but not all checkpointed values were used. See above for specific issues. Use expect_partial() on the load status object, e.g. tf.train.Checkpoint.restore(...).expect_partial(), to silence these warnings, or use assert_consumed() to make the check explicit. See https://www.tensorflow.org/guide/checkpoint#loading_mechanics for details.\n",
      "_wf_PR_12_cycles_v1_param_update_cycle9\n"
     ]
    },
    {
     "name": "stderr",
     "output_type": "stream",
     "text": [
      "2023-04-23 22:48:35.415930: I tensorflow/core/common_runtime/gpu/gpu_device.cc:1525] Created device /device:GPU:0 with 38396 MB memory:  -> device: 0, name: NVIDIA A100-PCIE-40GB, pci bus id: 0000:a1:00.0, compute capability: 8.0\n"
     ]
    },
    {
     "name": "stdout",
     "output_type": "stream",
     "text": [
      "WARNING:tensorflow:Unresolved object in checkpoint: (root).optimizer.iter\n",
      "WARNING:tensorflow:Unresolved object in checkpoint: (root).optimizer.beta_1\n",
      "WARNING:tensorflow:Unresolved object in checkpoint: (root).optimizer.beta_2\n",
      "WARNING:tensorflow:Unresolved object in checkpoint: (root).optimizer.decay\n",
      "WARNING:tensorflow:Unresolved object in checkpoint: (root).optimizer.learning_rate\n",
      "WARNING:tensorflow:Unresolved object in checkpoint: (root).optimizer.min_lr\n",
      "WARNING:tensorflow:Unresolved object in checkpoint: (root).optimizer.sma_threshold\n",
      "WARNING:tensorflow:Unresolved object in checkpoint: (root).optimizer.total_steps\n",
      "WARNING:tensorflow:Unresolved object in checkpoint: (root).optimizer.warmup_proportion\n",
      "WARNING:tensorflow:Unresolved object in checkpoint: (root).optimizer.weight_decay\n",
      "WARNING:tensorflow:Unresolved object in checkpoint: (root).optimizer's state 'm' for (root).tf_np_poly_opd.S_mat\n",
      "WARNING:tensorflow:Unresolved object in checkpoint: (root).optimizer's state 'm' for (root).tf_np_poly_opd.alpha_mat\n",
      "WARNING:tensorflow:Unresolved object in checkpoint: (root).optimizer's state 'v' for (root).tf_np_poly_opd.S_mat\n",
      "WARNING:tensorflow:Unresolved object in checkpoint: (root).optimizer's state 'v' for (root).tf_np_poly_opd.alpha_mat\n",
      "WARNING:tensorflow:A checkpoint was restored (e.g. tf.train.Checkpoint.restore or tf.keras.Model.load_weights) but not all checkpointed values were used. See above for specific issues. Use expect_partial() on the load status object, e.g. tf.train.Checkpoint.restore(...).expect_partial(), to silence these warnings, or use assert_consumed() to make the check explicit. See https://www.tensorflow.org/guide/checkpoint#loading_mechanics for details.\n",
      "_wf_PR_12_cycles_v1_param_update_cycle10\n"
     ]
    },
    {
     "name": "stderr",
     "output_type": "stream",
     "text": [
      "2023-04-23 22:50:38.760567: I tensorflow/core/common_runtime/gpu/gpu_device.cc:1525] Created device /device:GPU:0 with 38396 MB memory:  -> device: 0, name: NVIDIA A100-PCIE-40GB, pci bus id: 0000:a1:00.0, compute capability: 8.0\n"
     ]
    },
    {
     "name": "stdout",
     "output_type": "stream",
     "text": [
      "WARNING:tensorflow:Unresolved object in checkpoint: (root).optimizer.iter\n",
      "WARNING:tensorflow:Unresolved object in checkpoint: (root).optimizer.beta_1\n",
      "WARNING:tensorflow:Unresolved object in checkpoint: (root).optimizer.beta_2\n",
      "WARNING:tensorflow:Unresolved object in checkpoint: (root).optimizer.decay\n",
      "WARNING:tensorflow:Unresolved object in checkpoint: (root).optimizer.learning_rate\n",
      "WARNING:tensorflow:Unresolved object in checkpoint: (root).optimizer.min_lr\n",
      "WARNING:tensorflow:Unresolved object in checkpoint: (root).optimizer.sma_threshold\n",
      "WARNING:tensorflow:Unresolved object in checkpoint: (root).optimizer.total_steps\n",
      "WARNING:tensorflow:Unresolved object in checkpoint: (root).optimizer.warmup_proportion\n",
      "WARNING:tensorflow:Unresolved object in checkpoint: (root).optimizer.weight_decay\n",
      "WARNING:tensorflow:Unresolved object in checkpoint: (root).optimizer's state 'm' for (root).tf_np_poly_opd.S_mat\n",
      "WARNING:tensorflow:Unresolved object in checkpoint: (root).optimizer's state 'm' for (root).tf_np_poly_opd.alpha_mat\n",
      "WARNING:tensorflow:Unresolved object in checkpoint: (root).optimizer's state 'v' for (root).tf_np_poly_opd.S_mat\n",
      "WARNING:tensorflow:Unresolved object in checkpoint: (root).optimizer's state 'v' for (root).tf_np_poly_opd.alpha_mat\n",
      "WARNING:tensorflow:A checkpoint was restored (e.g. tf.train.Checkpoint.restore or tf.keras.Model.load_weights) but not all checkpointed values were used. See above for specific issues. Use expect_partial() on the load status object, e.g. tf.train.Checkpoint.restore(...).expect_partial(), to silence these warnings, or use assert_consumed() to make the check explicit. See https://www.tensorflow.org/guide/checkpoint#loading_mechanics for details.\n",
      "_wf_PR_12_cycles_v1_param_update_cycle11\n"
     ]
    },
    {
     "name": "stderr",
     "output_type": "stream",
     "text": [
      "2023-04-23 22:52:37.777852: I tensorflow/core/common_runtime/gpu/gpu_device.cc:1525] Created device /device:GPU:0 with 38396 MB memory:  -> device: 0, name: NVIDIA A100-PCIE-40GB, pci bus id: 0000:a1:00.0, compute capability: 8.0\n"
     ]
    },
    {
     "name": "stdout",
     "output_type": "stream",
     "text": [
      "WARNING:tensorflow:Unresolved object in checkpoint: (root).optimizer.iter\n",
      "WARNING:tensorflow:Unresolved object in checkpoint: (root).optimizer.beta_1\n",
      "WARNING:tensorflow:Unresolved object in checkpoint: (root).optimizer.beta_2\n",
      "WARNING:tensorflow:Unresolved object in checkpoint: (root).optimizer.decay\n",
      "WARNING:tensorflow:Unresolved object in checkpoint: (root).optimizer.learning_rate\n",
      "WARNING:tensorflow:Unresolved object in checkpoint: (root).optimizer.min_lr\n",
      "WARNING:tensorflow:Unresolved object in checkpoint: (root).optimizer.sma_threshold\n",
      "WARNING:tensorflow:Unresolved object in checkpoint: (root).optimizer.total_steps\n",
      "WARNING:tensorflow:Unresolved object in checkpoint: (root).optimizer.warmup_proportion\n",
      "WARNING:tensorflow:Unresolved object in checkpoint: (root).optimizer.weight_decay\n",
      "WARNING:tensorflow:Unresolved object in checkpoint: (root).optimizer's state 'm' for (root).tf_np_poly_opd.S_mat\n",
      "WARNING:tensorflow:Unresolved object in checkpoint: (root).optimizer's state 'm' for (root).tf_np_poly_opd.alpha_mat\n",
      "WARNING:tensorflow:Unresolved object in checkpoint: (root).optimizer's state 'v' for (root).tf_np_poly_opd.S_mat\n",
      "WARNING:tensorflow:Unresolved object in checkpoint: (root).optimizer's state 'v' for (root).tf_np_poly_opd.alpha_mat\n",
      "WARNING:tensorflow:A checkpoint was restored (e.g. tf.train.Checkpoint.restore or tf.keras.Model.load_weights) but not all checkpointed values were used. See above for specific issues. Use expect_partial() on the load status object, e.g. tf.train.Checkpoint.restore(...).expect_partial(), to silence these warnings, or use assert_consumed() to make the check explicit. See https://www.tensorflow.org/guide/checkpoint#loading_mechanics for details.\n",
      "_wf_PR_12_cycles_v1_param_update_cycle12\n"
     ]
    },
    {
     "name": "stderr",
     "output_type": "stream",
     "text": [
      "2023-04-23 22:54:36.525238: I tensorflow/core/common_runtime/gpu/gpu_device.cc:1525] Created device /device:GPU:0 with 38396 MB memory:  -> device: 0, name: NVIDIA A100-PCIE-40GB, pci bus id: 0000:a1:00.0, compute capability: 8.0\n"
     ]
    },
    {
     "name": "stdout",
     "output_type": "stream",
     "text": [
      "WARNING:tensorflow:Unresolved object in checkpoint: (root).optimizer.iter\n",
      "WARNING:tensorflow:Unresolved object in checkpoint: (root).optimizer.beta_1\n",
      "WARNING:tensorflow:Unresolved object in checkpoint: (root).optimizer.beta_2\n",
      "WARNING:tensorflow:Unresolved object in checkpoint: (root).optimizer.decay\n",
      "WARNING:tensorflow:Unresolved object in checkpoint: (root).optimizer.learning_rate\n",
      "WARNING:tensorflow:Unresolved object in checkpoint: (root).optimizer.min_lr\n",
      "WARNING:tensorflow:Unresolved object in checkpoint: (root).optimizer.sma_threshold\n",
      "WARNING:tensorflow:Unresolved object in checkpoint: (root).optimizer.total_steps\n",
      "WARNING:tensorflow:Unresolved object in checkpoint: (root).optimizer.warmup_proportion\n",
      "WARNING:tensorflow:Unresolved object in checkpoint: (root).optimizer.weight_decay\n",
      "WARNING:tensorflow:Unresolved object in checkpoint: (root).optimizer's state 'm' for (root).tf_np_poly_opd.S_mat\n",
      "WARNING:tensorflow:Unresolved object in checkpoint: (root).optimizer's state 'm' for (root).tf_np_poly_opd.alpha_mat\n",
      "WARNING:tensorflow:Unresolved object in checkpoint: (root).optimizer's state 'v' for (root).tf_np_poly_opd.S_mat\n",
      "WARNING:tensorflow:Unresolved object in checkpoint: (root).optimizer's state 'v' for (root).tf_np_poly_opd.alpha_mat\n",
      "WARNING:tensorflow:A checkpoint was restored (e.g. tf.train.Checkpoint.restore or tf.keras.Model.load_weights) but not all checkpointed values were used. See above for specific issues. Use expect_partial() on the load status object, e.g. tf.train.Checkpoint.restore(...).expect_partial(), to silence these warnings, or use assert_consumed() to make the check explicit. See https://www.tensorflow.org/guide/checkpoint#loading_mechanics for details.\n",
      "_wf_PR_12_cycles_v1_Zk60_cycle1\n"
     ]
    },
    {
     "name": "stderr",
     "output_type": "stream",
     "text": [
      "2023-04-23 22:56:38.822302: I tensorflow/core/common_runtime/gpu/gpu_device.cc:1525] Created device /device:GPU:0 with 38396 MB memory:  -> device: 0, name: NVIDIA A100-PCIE-40GB, pci bus id: 0000:a1:00.0, compute capability: 8.0\n"
     ]
    },
    {
     "ename": "ValueError",
     "evalue": "Shapes (45, 6) and (60, 6) are incompatible",
     "output_type": "error",
     "traceback": [
      "\u001b[0;31m---------------------------------------------------------------------------\u001b[0m",
      "\u001b[0;31mValueError\u001b[0m                                Traceback (most recent call last)",
      "Cell \u001b[0;32mIn[11], line 32\u001b[0m\n\u001b[1;32m     30\u001b[0m args_2 \u001b[39m=\u001b[39m wf\u001b[39m.\u001b[39mutils\u001b[39m.\u001b[39mload_multi_cycle_params_click(args)\n\u001b[1;32m     31\u001b[0m \u001b[39m# Run evaluations\u001b[39;00m\n\u001b[0;32m---> 32\u001b[0m wf\u001b[39m.\u001b[39;49mscript_utils\u001b[39m.\u001b[39;49mevaluate_model(\u001b[39m*\u001b[39;49m\u001b[39m*\u001b[39;49margs_2)\n",
      "File \u001b[0;32m/disk/xray0/tl3/repos/wf-psf/wf_psf/script_utils.py:994\u001b[0m, in \u001b[0;36mevaluate_model\u001b[0;34m(**args)\u001b[0m\n\u001b[1;32m    992\u001b[0m sys\u001b[39m.\u001b[39mstdout \u001b[39m=\u001b[39m old_stdout\n\u001b[1;32m    993\u001b[0m log_file\u001b[39m.\u001b[39mclose()\n\u001b[0;32m--> 994\u001b[0m \u001b[39mraise\u001b[39;00m e\n",
      "File \u001b[0;32m/disk/xray0/tl3/repos/wf-psf/wf_psf/script_utils.py:732\u001b[0m, in \u001b[0;36mevaluate_model\u001b[0;34m(**args)\u001b[0m\n\u001b[1;32m    714\u001b[0m     tf_semiparam_field \u001b[39m=\u001b[39m tf_psf_field\u001b[39m.\u001b[39mTF_physical_poly_field(\n\u001b[1;32m    715\u001b[0m         zernike_maps\u001b[39m=\u001b[39mtf_zernike_cube,\n\u001b[1;32m    716\u001b[0m         obscurations\u001b[39m=\u001b[39mtf_obscurations,\n\u001b[0;32m   (...)\u001b[0m\n\u001b[1;32m    728\u001b[0m         interpolation_type\u001b[39m=\u001b[39margs[\u001b[39m'\u001b[39m\u001b[39minterpolation_type\u001b[39m\u001b[39m'\u001b[39m],\n\u001b[1;32m    729\u001b[0m     )\n\u001b[1;32m    731\u001b[0m \u001b[39m## Load the model's weights\u001b[39;00m\n\u001b[0;32m--> 732\u001b[0m tf_semiparam_field\u001b[39m.\u001b[39;49mload_weights(weights_paths)\n\u001b[1;32m    734\u001b[0m \u001b[39m# If eval_only_param is true we put non param model to zero.\u001b[39;00m\n\u001b[1;32m    735\u001b[0m \u001b[39mif\u001b[39;00m \u001b[39m'\u001b[39m\u001b[39meval_only_param\u001b[39m\u001b[39m'\u001b[39m \u001b[39mnot\u001b[39;00m \u001b[39min\u001b[39;00m args:\n",
      "File \u001b[0;32m/disk/xray0/tl3/miniconda3/envs/tf2_7_conda/lib/python3.9/site-packages/keras/utils/traceback_utils.py:67\u001b[0m, in \u001b[0;36mfilter_traceback.<locals>.error_handler\u001b[0;34m(*args, **kwargs)\u001b[0m\n\u001b[1;32m     65\u001b[0m \u001b[39mexcept\u001b[39;00m \u001b[39mException\u001b[39;00m \u001b[39mas\u001b[39;00m e:  \u001b[39m# pylint: disable=broad-except\u001b[39;00m\n\u001b[1;32m     66\u001b[0m   filtered_tb \u001b[39m=\u001b[39m _process_traceback_frames(e\u001b[39m.\u001b[39m__traceback__)\n\u001b[0;32m---> 67\u001b[0m   \u001b[39mraise\u001b[39;00m e\u001b[39m.\u001b[39mwith_traceback(filtered_tb) \u001b[39mfrom\u001b[39;00m \u001b[39mNone\u001b[39;00m\n\u001b[1;32m     68\u001b[0m \u001b[39mfinally\u001b[39;00m:\n\u001b[1;32m     69\u001b[0m   \u001b[39mdel\u001b[39;00m filtered_tb\n",
      "File \u001b[0;32m/disk/xray0/tl3/miniconda3/envs/tf2_7_conda/lib/python3.9/site-packages/tensorflow/python/framework/tensor_shape.py:1171\u001b[0m, in \u001b[0;36mTensorShape.assert_is_compatible_with\u001b[0;34m(self, other)\u001b[0m\n\u001b[1;32m   1159\u001b[0m \u001b[39m\u001b[39m\u001b[39m\"\"\"Raises exception if `self` and `other` do not represent the same shape.\u001b[39;00m\n\u001b[1;32m   1160\u001b[0m \n\u001b[1;32m   1161\u001b[0m \u001b[39mThis method can be used to assert that there exists a shape that both\u001b[39;00m\n\u001b[0;32m   (...)\u001b[0m\n\u001b[1;32m   1168\u001b[0m \u001b[39m  ValueError: If `self` and `other` do not represent the same shape.\u001b[39;00m\n\u001b[1;32m   1169\u001b[0m \u001b[39m\"\"\"\u001b[39;00m\n\u001b[1;32m   1170\u001b[0m \u001b[39mif\u001b[39;00m \u001b[39mnot\u001b[39;00m \u001b[39mself\u001b[39m\u001b[39m.\u001b[39mis_compatible_with(other):\n\u001b[0;32m-> 1171\u001b[0m   \u001b[39mraise\u001b[39;00m \u001b[39mValueError\u001b[39;00m(\u001b[39m\"\u001b[39m\u001b[39mShapes \u001b[39m\u001b[39m%s\u001b[39;00m\u001b[39m and \u001b[39m\u001b[39m%s\u001b[39;00m\u001b[39m are incompatible\u001b[39m\u001b[39m\"\u001b[39m \u001b[39m%\u001b[39m (\u001b[39mself\u001b[39m, other))\n",
      "\u001b[0;31mValueError\u001b[0m: Shapes (45, 6) and (60, 6) are incompatible"
     ]
    }
   ],
   "source": [
    "base_id_name_list = [\n",
    "    # '_wf_PR_12_cycles_v1_',\n",
    "    # '_wf_PR_12_cycles_v1_param_update_',\n",
    "    '_wf_PR_12_cycles_v1_Zk60_',\n",
    "    '_wf_PR_18_cycles_v1_',\n",
    "]\n",
    "base_chkp_path_list = [\n",
    "    # '/unsafe/data1/tl3/outputs/wf-phase-retrieval/wf-outputs/chkp/12_cycles/chkp_callback_poly_wf_PR_12_cycles_v1_',\n",
    "    # '/unsafe/data1/tl3/outputs/wf-phase-retrieval/wf-outputs/chkp/12_cycles_param_update/chkp_callback_poly_wf_PR_12_cycles_v1_param_update_',\n",
    "    '/unsafe/data1/tl3/outputs/wf-phase-retrieval/wf-outputs/chkp/12_cycles_Zk60/chkp_callback_poly_wf_PR_12_cycles_v1_Zk60_',\n",
    "    '/unsafe/data1/tl3/outputs/wf-phase-retrieval/wf-outputs/chkp/18_cycles/chkp_callback_poly_wf_PR_18_cycles_v1_'\n",
    "]\n",
    "eval_cycle_base_id_list = [12,18]# [12,12,12,18]\n",
    "\n",
    "# Iterate over the base_ids\n",
    "for base_id, base_chkp_path, total_cycles in zip(base_id_name_list, base_chkp_path_list, eval_cycle_base_id_list):\n",
    "    # Define the list of cycles\n",
    "    eval_cycle_list = np.arange(1,total_cycles+1)\n",
    "\n",
    "    if base_id == '_wf_PR_12_cycles_v1_Zk60_':\n",
    "        args['n_zernikes'] = 60\n",
    "    else:\n",
    "        args['n_zernikes'] = 45\n",
    "\n",
    "    # Iterate over the cycles\n",
    "    for eval_cycle in eval_cycle_list:\n",
    "\n",
    "        args['chkp_save_path'] = base_chkp_path + 'cycle' + str(eval_cycle)\n",
    "        args['id_name'] = base_id + 'cycle' + str(eval_cycle)\n",
    "\n",
    "        print(args['id_name'])\n",
    "        # print(args['chkp_save_path'])\n",
    "\n",
    "        # Process args\n",
    "        args_2 = wf.utils.load_multi_cycle_params_click(args)\n",
    "        # Run evaluations\n",
    "        wf.script_utils.evaluate_model(**args_2)\n",
    "\n",
    "\n"
   ]
  },
  {
   "cell_type": "code",
   "execution_count": 21,
   "metadata": {},
   "outputs": [
    {
     "data": {
      "text/plain": [
       "'3'"
      ]
     },
     "execution_count": 21,
     "metadata": {},
     "output_type": "execute_result"
    }
   ],
   "source": [
    "\n",
    "str(np.arange(1,13)[2])\n"
   ]
  },
  {
   "cell_type": "code",
   "execution_count": null,
   "metadata": {},
   "outputs": [],
   "source": [
    "\n",
    "\n",
    "\n",
    "\n"
   ]
  },
  {
   "cell_type": "code",
   "execution_count": null,
   "metadata": {},
   "outputs": [],
   "source": []
  },
  {
   "cell_type": "code",
   "execution_count": null,
   "metadata": {},
   "outputs": [],
   "source": []
  },
  {
   "cell_type": "code",
   "execution_count": null,
   "metadata": {},
   "outputs": [],
   "source": []
  },
  {
   "cell_type": "code",
   "execution_count": null,
   "metadata": {},
   "outputs": [],
   "source": []
  }
 ],
 "metadata": {
  "interpreter": {
   "hash": "31f2aee4e71d21fbe5cf8b01ff0e069b9275f58929596ceb00d14d90e3e16cd6"
  },
  "kernelspec": {
   "display_name": "Python 3.8.2 64-bit",
   "language": "python",
   "name": "python3"
  },
  "language_info": {
   "codemirror_mode": {
    "name": "ipython",
    "version": 3
   },
   "file_extension": ".py",
   "mimetype": "text/x-python",
   "name": "python",
   "nbconvert_exporter": "python",
   "pygments_lexer": "ipython3",
   "version": "3.9.12"
  },
  "orig_nbformat": 4
 },
 "nbformat": 4,
 "nbformat_minor": 2
}
