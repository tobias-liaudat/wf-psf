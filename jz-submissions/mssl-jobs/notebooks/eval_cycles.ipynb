{
 "cells": [
  {
   "cell_type": "code",
   "execution_count": 1,
   "metadata": {},
   "outputs": [],
   "source": [
    "import os\n",
    "os.environ[\"CUDA_VISIBLE_DEVICES\"]=\"2\"\n",
    "\n",
    "import numpy as np\n",
    "import matplotlib.pyplot as plt\n",
    "\n",
    "import wf_psf as wf\n",
    "\n"
   ]
  },
  {
   "cell_type": "code",
   "execution_count": 1,
   "metadata": {},
   "outputs": [],
   "source": [
    "\n",
    "args = {\n",
    "    'id_name': '_wf_PR_12_cycles_v1' ,\n",
    "    'suffix_id_name': 'v1' ,\n",
    "    'base_id_name': '_wf_PR_12_cycles_' ,\n",
    "    'eval_only_param': False ,\n",
    "    'total_cycles': 12 ,\n",
    "    'saved_cycle': 'cycle12' ,\n",
    "    'reset_dd_features': True ,\n",
    "    'eval_only_param': False ,\n",
    "    'project_dd_features': True ,\n",
    "    'd_max': 2 ,\n",
    "    'n_zernikes': 45 ,\n",
    "    'save_all_cycles': True ,\n",
    "    'n_bins_lda': 8 ,\n",
    "    'n_bins_gt': 8,\n",
    "    'output_dim': 32,\n",
    "    'batch_size': 32,\n",
    "    'oversampling_rate': 3.,\n",
    "    'output_q': 3.,\n",
    "    'sed_sigma': 0.,\n",
    "    'x_lims': [0, 1e3],\n",
    "    'y_lims': [0, 1e3],\n",
    "    'sed_interp_kind': 'linear',\n",
    "    'interp_pts_per_bin': 0,\n",
    "    'extrapolate': True,\n",
    "    'opt_stars_rel_pix_rmse': True ,\n",
    "    'eval_mono_metric_rmse': False,\n",
    "    'eval_opd_metric_rmse': True,\n",
    "    'eval_train_shape_sr_metric_rmse': True,\n",
    "    'pupil_diameter': 256 ,\n",
    "    'n_epochs_param_multi_cycle': \"0\" ,\n",
    "    'n_epochs_non_param_multi_cycle': \"75\" ,\n",
    "    'l_rate_non_param_multi_cycle': \"0.1\" ,\n",
    "    'l_rate_param_multi_cycle': \"0\" ,\n",
    "    'l_rate_param': None,\n",
    "    'l_rate_non_param': None,\n",
    "    'n_epochs_param': None,\n",
    "    'n_epochs_non_param': None,\n",
    "    'model': 'poly' ,\n",
    "    'model_eval': 'poly' ,\n",
    "    'cycle_def': 'complete' ,\n",
    "    'gt_n_zernikes': 45 ,\n",
    "    'd_max_nonparam': 5 ,\n",
    "    'saved_model_type': 'external' ,\n",
    "    'use_sample_weights': True ,\n",
    "    'l2_param': 0. ,\n",
    "    'interpolation_type': 'none' ,\n",
    "    'eval_batch_size': 16 ,\n",
    "    'train_opt': True ,\n",
    "    'eval_opt': True ,\n",
    "    'plot_opt': True ,\n",
    "    'dataset_folder': '/disk/xray0/tl3/datasets/wf-phase-retrieval/data/',\n",
    "    'test_dataset_file': 'test_Euclid_res_id_010_8_bins.npy',\n",
    "    'train_dataset_file': 'train_Euclid_res_2000_TrainStars_id_010_8_bins.npy',\n",
    "    'base_path': '/unsafe/data1/tl3/outputs/wf-phase-retrieval/wf-outputs/',\n",
    "    'metric_base_path': '/unsafe/data1/tl3/outputs/wf-phase-retrieval/wf-outputs/metrics/',\n",
    "    'chkp_save_path': '/unsafe/data1/tl3/outputs/wf-phase-retrieval/wf-outputs/chkp/12_cycles/',\n",
    "    'plots_folder': 'plots/12_cycles/' ,\n",
    "    'model_folder': 'chkp/12_cycles/' ,\n",
    "    'log_folder': 'log-files/' ,\n",
    "    'optim_hist_folder': 'optim-hist/' ,\n",
    "    'star_numbers': 1 ,\n",
    "}\n",
    "\n"
   ]
  },
  {
   "cell_type": "code",
   "execution_count": 2,
   "metadata": {},
   "outputs": [],
   "source": [
    "base_path = '/disk/xray0/tl3/repos/wf-psf/jz-submissions/mssl-jobs/'\n",
    "log_folder = 'outputs/logs/'\n",
    "metric_base_path = '/disk/xray0/tl3/repos/wf-psf/jz-submissions/mssl-jobs/outputs/eval_metrics/'\n",
    "base_chkp_path = '/unsafe/data1/tl3/outputs/wf-phase-retrieval/wf-outputs/chkp/12_cycles/chkp_poly_wf_PR_12_cycles_v1_'\n",
    "\n",
    "\n",
    "# base_id_name = '_wf_PR_12_cycles_v1_'\n",
    "# eval_cycle = 'cycle1'\n",
    "\n",
    "args['base_path'] = base_path\n",
    "args['log_folder'] = log_folder\n",
    "args['metric_base_path'] = metric_base_path\n",
    "\n",
    "\n"
   ]
  },
  {
   "cell_type": "code",
   "execution_count": 3,
   "metadata": {},
   "outputs": [
    {
     "ename": "NameError",
     "evalue": "name 'np' is not defined",
     "output_type": "error",
     "traceback": [
      "\u001b[0;31m---------------------------------------------------------------------------\u001b[0m",
      "\u001b[0;31mNameError\u001b[0m                                 Traceback (most recent call last)",
      "Cell \u001b[0;32mIn[3], line 26\u001b[0m\n\u001b[1;32m     23\u001b[0m \u001b[39m# Iterate over the base_ids\u001b[39;00m\n\u001b[1;32m     24\u001b[0m \u001b[39mfor\u001b[39;00m base_id, base_chkp_path, total_cycles \u001b[39min\u001b[39;00m \u001b[39mzip\u001b[39m(base_id_name_list, base_chkp_path_list, eval_cycle_base_id_list):\n\u001b[1;32m     25\u001b[0m     \u001b[39m# Define the list of cycles\u001b[39;00m\n\u001b[0;32m---> 26\u001b[0m     eval_cycle_list \u001b[39m=\u001b[39m np\u001b[39m.\u001b[39marange(\u001b[39m1\u001b[39m,total_cycles\u001b[39m+\u001b[39m\u001b[39m1\u001b[39m)\n\u001b[1;32m     28\u001b[0m     \u001b[39mif\u001b[39;00m base_id \u001b[39m==\u001b[39m \u001b[39m'\u001b[39m\u001b[39m_wf_PR_12_cycles_v1_Zk60_\u001b[39m\u001b[39m'\u001b[39m:\n\u001b[1;32m     29\u001b[0m         args[\u001b[39m'\u001b[39m\u001b[39mn_zernikes\u001b[39m\u001b[39m'\u001b[39m] \u001b[39m=\u001b[39m \u001b[39m60\u001b[39m\n",
      "\u001b[0;31mNameError\u001b[0m: name 'np' is not defined"
     ]
    }
   ],
   "source": [
    "base_id_name_list = [\n",
    "    # '_wf_PR_12_cycles_v1_',\n",
    "    # '_wf_PR_12_cycles_v1_param_update_',\n",
    "    # '_wf_PR_12_cycles_v1_Zk60_',\n",
    "    # '_wf_PR_18_cycles_v1_',\n",
    "    # '_wf_PR_18_cycles_v2_',\n",
    "    # '_wf_PR_16_cycles_v1_',\n",
    "    '_wf_PR_12_cycles_v2_',\n",
    "    '_wf_PR_14_cycles_v1_',\n",
    "]\n",
    "base_chkp_path_list = [\n",
    "    # '/unsafe/data1/tl3/outputs/wf-phase-retrieval/wf-outputs/chkp/12_cycles/chkp_callback_poly_wf_PR_12_cycles_v1_',\n",
    "    # '/unsafe/data1/tl3/outputs/wf-phase-retrieval/wf-outputs/chkp/12_cycles_param_update/chkp_callback_poly_wf_PR_12_cycles_v1_param_update_',\n",
    "    # '/unsafe/data1/tl3/outputs/wf-phase-retrieval/wf-outputs/chkp/12_cycles_Zk60/chkp_callback_poly_wf_PR_12_cycles_v1_Zk60_',\n",
    "    # '/unsafe/data1/tl3/outputs/wf-phase-retrieval/wf-outputs/chkp/18_cycles/chkp_callback_poly_wf_PR_18_cycles_v1_',\n",
    "    # '/unsafe/data1/tl3/outputs/wf-phase-retrieval/wf-outputs/chkp/18_cycles/chkp_callback_poly_wf_PR_18_cycles_v2_',\n",
    "    # '/unsafe/data1/tl3/outputs/wf-phase-retrieval/wf-outputs/chkp/16_cycles/chkp_callback_poly_wf_PR_16_cycles_v1_',\n",
    "    '/unsafe/data1/tl3/outputs/wf-phase-retrieval/wf-outputs/chkp/12_cycles/chkp_callback_poly_wf_PR_12_cycles_v2_',\n",
    "    '/unsafe/data1/tl3/outputs/wf-phase-retrieval/wf-outputs/chkp/14_cycles/chkp_callback_poly_wf_PR_14_cycles_v1_',\n",
    "]\n",
    "eval_cycle_base_id_list = [12,14] # [16]# [12,18]# [12,12,12,18]\n",
    "\n",
    "# Iterate over the base_ids\n",
    "for base_id, base_chkp_path, total_cycles in zip(base_id_name_list, base_chkp_path_list, eval_cycle_base_id_list):\n",
    "    # Define the list of cycles\n",
    "    eval_cycle_list = np.arange(1,total_cycles+1)\n",
    "\n",
    "    if base_id == '_wf_PR_12_cycles_v1_Zk60_':\n",
    "        args['n_zernikes'] = 60\n",
    "    else:\n",
    "        args['n_zernikes'] = 45\n",
    "\n",
    "    # Iterate over the cycles\n",
    "    for eval_cycle in eval_cycle_list:\n",
    "\n",
    "        args['chkp_save_path'] = base_chkp_path + 'cycle' + str(eval_cycle)\n",
    "        args['id_name'] = base_id + 'cycle' + str(eval_cycle)\n",
    "\n",
    "        print(args['id_name'])\n",
    "        # print(args['chkp_save_path'])\n",
    "\n",
    "        # Process args\n",
    "        args_2 = wf.utils.load_multi_cycle_params_click(args)\n",
    "        # Run evaluations\n",
    "        wf.script_utils.evaluate_model(**args_2)\n",
    "\n",
    "\n"
   ]
  },
  {
   "cell_type": "code",
   "execution_count": null,
   "metadata": {},
   "outputs": [
    {
     "data": {
      "text/plain": [
       "'3'"
      ]
     },
     "execution_count": 21,
     "metadata": {},
     "output_type": "execute_result"
    }
   ],
   "source": [
    "\n",
    "str(np.arange(1,13)[2])\n"
   ]
  },
  {
   "cell_type": "code",
   "execution_count": null,
   "metadata": {},
   "outputs": [],
   "source": [
    "\n",
    "\n",
    "\n",
    "\n"
   ]
  },
  {
   "cell_type": "code",
   "execution_count": null,
   "metadata": {},
   "outputs": [],
   "source": []
  },
  {
   "cell_type": "code",
   "execution_count": null,
   "metadata": {},
   "outputs": [],
   "source": []
  },
  {
   "cell_type": "code",
   "execution_count": null,
   "metadata": {},
   "outputs": [],
   "source": []
  },
  {
   "cell_type": "code",
   "execution_count": null,
   "metadata": {},
   "outputs": [],
   "source": []
  }
 ],
 "metadata": {
  "interpreter": {
   "hash": "31f2aee4e71d21fbe5cf8b01ff0e069b9275f58929596ceb00d14d90e3e16cd6"
  },
  "kernelspec": {
   "display_name": "Python 3.8.2 64-bit",
   "language": "python",
   "name": "python3"
  },
  "language_info": {
   "codemirror_mode": {
    "name": "ipython",
    "version": 3
   },
   "file_extension": ".py",
   "mimetype": "text/x-python",
   "name": "python",
   "nbconvert_exporter": "python",
   "pygments_lexer": "ipython3",
   "version": "3.9.12"
  },
  "orig_nbformat": 4
 },
 "nbformat": 4,
 "nbformat_minor": 2
}
