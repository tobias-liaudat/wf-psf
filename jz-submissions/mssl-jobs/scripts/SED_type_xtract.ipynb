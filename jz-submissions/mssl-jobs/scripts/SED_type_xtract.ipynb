{
 "cells": [
  {
   "cell_type": "code",
   "execution_count": 1,
   "metadata": {},
   "outputs": [],
   "source": [
    "import numpy as np\n",
    "import matplotlib.pyplot as plt\n",
    "from numpy.linalg import norm"
   ]
  },
  {
   "cell_type": "code",
   "execution_count": 4,
   "metadata": {},
   "outputs": [],
   "source": [
    "# Paths\n",
    "\n",
    "# SED folder path\n",
    "SED_path = '/Users/tliaudat/Documents/PhD/codes/WF_PSF/github/wf-psf/data/SEDs/save_SEDs/'\n",
    "\n",
    "# Reference dataset PATH\n",
    "reference_data = '/Users/tliaudat/Documents/PhD/codes/WF_PSF/github/wf-psf/data/coherent_euclid_dataset/'\n",
    "ref_train = 'train_Euclid_res_2000_TrainStars_id_001.npy'\n",
    "ref_test  = 'test_Euclid_res_id_001.npy'\n"
   ]
  },
  {
   "cell_type": "code",
   "execution_count": 5,
   "metadata": {},
   "outputs": [],
   "source": [
    "# Load the SEDs\n",
    "stellar_SEDs = np.load(SED_path + 'SEDs.npy', allow_pickle=True)\n",
    "stellar_lambdas = np.load(SED_path + 'lambdas.npy', allow_pickle=True)\n",
    "\n",
    "SED_name = ['O5V', 'B0V', 'B5-7V', 'A0V', 'A5V', 'F0V', 'F5V', 'G0V', 'G5V', 'K0V', 'K5V', 'M0V', 'M5V']"
   ]
  },
  {
   "cell_type": "code",
   "execution_count": 6,
   "metadata": {},
   "outputs": [
    {
     "name": "stdout",
     "output_type": "stream",
     "text": [
      "dict_keys(['stars', 'noisy_stars', 'positions', 'SEDs', 'zernike_coef', 'C_poly', 'parameters'])\n",
      "dict_keys(['stars', 'positions', 'SEDs', 'zernike_coef', 'C_poly', 'parameters'])\n"
     ]
    }
   ],
   "source": [
    "# Load datasets\n",
    "train_dataset = np.load(reference_data+ref_train, allow_pickle=True)[()]\n",
    "test_dataset = np.load(reference_data+ref_test, allow_pickle=True)[()]\n",
    "\n",
    "print(train_dataset.keys())\n",
    "print(test_dataset.keys())"
   ]
  },
  {
   "cell_type": "code",
   "execution_count": 7,
   "metadata": {},
   "outputs": [],
   "source": [
    "# Create SED type matcher\n",
    "def match_SED(SED_list, SED, N=5):\n",
    "    SED_list_ = SED_list[:,:N]*len(stellar_SEDs[0,:])\n",
    "    SED_ = SED[:N,1]*len(SED[:,1])\n",
    "    diff = [norm(SED_list_[i,:]-SED_) for i in range(len(SED_list))]\n",
    "    return min(enumerate(diff), key=lambda x: x[1])[0]"
   ]
  },
  {
   "cell_type": "code",
   "execution_count": 8,
   "metadata": {},
   "outputs": [],
   "source": [
    "selected_id_SED_train = np.array([match_SED(stellar_SEDs, train_dataset['SEDs'][star_id,:,:]) for star_id in range(train_dataset['parameters']['n_stars'])])\n",
    "selected_id_SED_test = np.array([match_SED(stellar_SEDs, test_dataset['SEDs'][star_id,:,:]) for star_id in range(test_dataset['parameters']['n_stars'])])"
   ]
  },
  {
   "cell_type": "code",
   "execution_count": 9,
   "metadata": {},
   "outputs": [],
   "source": [
    "selected_id_SED = np.hstack((selected_id_SED_train, selected_id_SED_test))"
   ]
  },
  {
   "cell_type": "code",
   "execution_count": 10,
   "metadata": {},
   "outputs": [],
   "source": [
    "np.save(reference_data+'selected_id_SED.npy', selected_id_SED ,allow_pickle=True)"
   ]
  },
  {
   "cell_type": "code",
   "execution_count": null,
   "metadata": {},
   "outputs": [],
   "source": []
  }
 ],
 "metadata": {
  "interpreter": {
   "hash": "31f2aee4e71d21fbe5cf8b01ff0e069b9275f58929596ceb00d14d90e3e16cd6"
  },
  "kernelspec": {
   "display_name": "Python 3.8.2 64-bit",
   "language": "python",
   "name": "python3"
  },
  "language_info": {
   "codemirror_mode": {
    "name": "ipython",
    "version": 3
   },
   "file_extension": ".py",
   "mimetype": "text/x-python",
   "name": "python",
   "nbconvert_exporter": "python",
   "pygments_lexer": "ipython3",
   "version": "3.9.16"
  },
  "orig_nbformat": 4
 },
 "nbformat": 4,
 "nbformat_minor": 2
}
