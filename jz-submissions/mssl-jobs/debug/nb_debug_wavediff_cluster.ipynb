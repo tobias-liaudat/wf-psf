{
 "cells": [
  {
   "cell_type": "code",
   "execution_count": 1,
   "id": "b74eea0a",
   "metadata": {},
   "outputs": [
    {
     "name": "stderr",
     "output_type": "stream",
     "text": [
      "2023-04-19 18:48:09.181260: I tensorflow/core/platform/cpu_feature_guard.cc:193] This TensorFlow binary is optimized with oneAPI Deep Neural Network Library (oneDNN) to use the following CPU instructions in performance-critical operations:  AVX2 FMA\n",
      "To enable them in other operations, rebuild TensorFlow with the appropriate compiler flags.\n",
      "2023-04-19 18:48:09.942059: W tensorflow/compiler/xla/stream_executor/platform/default/dso_loader.cc:64] Could not load dynamic library 'libnvinfer.so.7'; dlerror: libnvinfer.so.7: cannot open shared object file: No such file or directory; LD_LIBRARY_PATH: /unsafe/data1/tl3/miniconda3/envs/tf2_11/lib/python3.9/site-packages/cv2/../../lib64:\n",
      "2023-04-19 18:48:09.942178: W tensorflow/compiler/xla/stream_executor/platform/default/dso_loader.cc:64] Could not load dynamic library 'libnvinfer_plugin.so.7'; dlerror: libnvinfer_plugin.so.7: cannot open shared object file: No such file or directory; LD_LIBRARY_PATH: /unsafe/data1/tl3/miniconda3/envs/tf2_11/lib/python3.9/site-packages/cv2/../../lib64:\n",
      "2023-04-19 18:48:09.942185: W tensorflow/compiler/tf2tensorrt/utils/py_utils.cc:38] TF-TRT Warning: Cannot dlopen some TensorRT libraries. If you would like to use Nvidia GPU with TensorRT, please make sure the missing libraries mentioned above are installed properly.\n"
     ]
    },
    {
     "name": "stdout",
     "output_type": "stream",
     "text": [
      "[PhysicalDevice(name='/physical_device:GPU:0', device_type='GPU')]\n"
     ]
    }
   ],
   "source": [
    "import numpy as np\n",
    "import wf_psf as wf\n",
    "import tensorflow as tf\n",
    "import os\n",
    "os.environ[\"CUDA_VISIBLE_DEVICES\"]=\"1\"\n",
    "\n",
    "print(tf.config.list_physical_devices('GPU'))"
   ]
  },
  {
   "cell_type": "code",
   "execution_count": 2,
   "id": "2da688b3",
   "metadata": {},
   "outputs": [],
   "source": [
    "\n",
    "args = {\n",
    "    'id_name': '_wf_PR_9_cycles_v1' ,\n",
    "    'suffix_id_name': 'v1' ,\n",
    "    'base_id_name': '_wf_PR_9_cycles_' ,\n",
    "    'eval_only_param': False ,\n",
    "    'total_cycles': 2 ,\n",
    "    'saved_cycle': 'cycle2' ,\n",
    "    'reset_dd_features': False ,\n",
    "    'eval_only_param': False ,\n",
    "    'project_dd_features': False ,\n",
    "    'd_max': 2 ,\n",
    "    'n_zernikes': 45 ,\n",
    "    'save_all_cycles': True ,\n",
    "    'n_bins_lda': 8 ,\n",
    "    'output_dim': 32,\n",
    "    'batch_size': 32,\n",
    "    'oversampling_rate': 3.,\n",
    "    'output_q': 3.,\n",
    "    'sed_sigma': 0.,\n",
    "    'x_lims': [0, 1e3],\n",
    "    'y_lims': [0, 1e3],\n",
    "    'sed_interp_kind': 'linear',\n",
    "    'interp_pts_per_bin': 0,\n",
    "    'extrapolate': True,\n",
    "    'opt_stars_rel_pix_rmse': True ,\n",
    "    'pupil_diameter': 256 ,\n",
    "    # 'n_epochs_param_multi_cycle': \"0\" ,\n",
    "    # 'n_epochs_non_param_multi_cycle': \"3\" ,\n",
    "    # 'l_rate_non_param_multi_cycle': \"0.1\" ,\n",
    "    # 'l_rate_param_multi_cycle': \"0\" ,\n",
    "    'l_rate_param': [0.04, 0.04],\n",
    "    'l_rate_non_param': [0.1, 0.04],\n",
    "    'n_epochs_param': [10, 10],\n",
    "    'n_epochs_non_param': [10, 10],\n",
    "    'model': 'poly' ,\n",
    "    'model_eval': 'poly' ,\n",
    "    'cycle_def': 'complete' ,\n",
    "    'gt_n_zernikes': 45 ,\n",
    "    'd_max_nonparam': 5 ,\n",
    "    'saved_model_type': 'checkpoint' ,\n",
    "    'use_sample_weights': True ,\n",
    "    'l2_param': 0. ,\n",
    "    'interpolation_type': 'none' ,\n",
    "    'eval_batch_size': 16 ,\n",
    "    'train_opt': True ,\n",
    "    'eval_opt': True ,\n",
    "    'plot_opt': True ,\n",
    "    # 'dataset_folder': '/disk/xray0/tl3/datasets/wf-phase-retrieval/data/' ,\n",
    "    # 'test_dataset_file': 'test_Euclid_res_id_010_8_bins.npy' ,\n",
    "    # 'train_dataset_file': 'train_Euclid_res_2000_TrainStars_id_010_8_bins.npy' ,\n",
    "    'dataset_folder': '/disk/xray0/tl3/repos/wf-psf/data/coherent_euclid_dataset/' ,\n",
    "    'test_dataset_file': 'test_Euclid_res_id_001.npy' ,\n",
    "    'train_dataset_file': 'train_Euclid_res_200_TrainStars_id_001.npy' ,\n",
    "    'base_path': '/disk/xray0/tl3/outputs/wf-phase-retrieval/wf-outputs/' ,\n",
    "    'metric_base_path': '/disk/xray0/tl3/outputs/wf-phase-retrieval/wf-outputs/metrics/' ,\n",
    "    'chkp_save_path': '/disk/xray0/tl3/outputs/wf-phase-retrieval/wf-outputs/chkp/9_cycles/' ,\n",
    "    'plots_folder': 'plots/9_cycles/' ,\n",
    "    'model_folder': 'chkp/9_cycles/' ,\n",
    "    'log_folder': 'log-files/' ,\n",
    "    'optim_hist_folder': 'optim-hist/' ,\n",
    "    'star_numbers': 1 ,\n",
    "}\n",
    "\n",
    "\n"
   ]
  },
  {
   "cell_type": "code",
   "execution_count": 3,
   "id": "cb644843",
   "metadata": {},
   "outputs": [
    {
     "name": "stdout",
     "output_type": "stream",
     "text": [
      "Training...\n"
     ]
    }
   ],
   "source": [
    "args = wf.utils.load_multi_cycle_params_click(args)\n",
    "print('Training...')"
   ]
  },
  {
   "cell_type": "code",
   "execution_count": 4,
   "id": "4d326ac3",
   "metadata": {},
   "outputs": [
    {
     "name": "stdout",
     "output_type": "stream",
     "text": [
      "Starting the log file.\n",
      "Found GPU at: /device:GPU:0\n",
      "tf_version: 2.11.1\n"
     ]
    },
    {
     "name": "stderr",
     "output_type": "stream",
     "text": [
      "2023-04-19 18:48:23.957560: I tensorflow/core/platform/cpu_feature_guard.cc:193] This TensorFlow binary is optimized with oneAPI Deep Neural Network Library (oneDNN) to use the following CPU instructions in performance-critical operations:  AVX2 FMA\n",
      "To enable them in other operations, rebuild TensorFlow with the appropriate compiler flags.\n",
      "2023-04-19 18:48:24.432901: I tensorflow/core/common_runtime/gpu/gpu_device.cc:1613] Created device /device:GPU:0 with 38402 MB memory:  -> device: 0, name: NVIDIA A100-PCIE-40GB, pci bus id: 0000:81:00.0, compute capability: 8.0\n",
      "2023-04-19 18:48:24.557773: I tensorflow/core/common_runtime/gpu/gpu_device.cc:1613] Created device /job:localhost/replica:0/task:0/device:GPU:0 with 38402 MB memory:  -> device: 0, name: NVIDIA A100-PCIE-40GB, pci bus id: 0000:81:00.0, compute capability: 8.0\n"
     ]
    },
    {
     "name": "stdout",
     "output_type": "stream",
     "text": [
      "Zernike cube:\n",
      "(45, 256, 256)\n",
      "Dataset parameters:\n",
      "{'d_max': 2, 'max_order': 45, 'x_lims': [0, 1000.0], 'y_lims': [0, 1000.0], 'grid_points': [4, 4], 'n_bins': 20, 'max_wfe_rms': 0.1, 'oversampling_rate': 3.0, 'output_Q': 3.0, 'output_dim': 32, 'LP_filter_length': 2, 'pupil_diameter': 256, 'euclid_obsc': True, 'n_stars': 200}\n",
      "Starting cycle 1..\n",
      "Starting parametric update..\n",
      "Epoch 1/10\n",
      "WARNING:tensorflow:From /disk/xray0/tl3/miniconda3/envs/tf2_11/lib/python3.9/site-packages/tensorflow/python/autograph/pyct/static_analysis/liveness.py:83: Analyzer.lamba_check (from tensorflow.python.autograph.pyct.static_analysis.liveness) is deprecated and will be removed after 2023-09-23.\n",
      "Instructions for updating:\n",
      "Lambda fuctions will be no more assumed to be used in the statement where they are used, or at least in the same block. https://github.com/tensorflow/tensorflow/issues/56089\n"
     ]
    },
    {
     "name": "stderr",
     "output_type": "stream",
     "text": [
      "2023-04-19 18:48:29.366954: I tensorflow/compiler/xla/stream_executor/cuda/cuda_blas.cc:630] TensorFloat-32 will be used for the matrix multiplication. This will only be logged once.\n",
      "2023-04-19 18:48:30.739188: I tensorflow/compiler/xla/stream_executor/cuda/cuda_dnn.cc:428] Loaded cuDNN version 8204\n"
     ]
    }
   ],
   "source": [
    "wf.script_utils.train_model(**args)\n",
    "print('Finish training...')"
   ]
  },
  {
   "cell_type": "code",
   "execution_count": null,
   "id": "eb466dd2",
   "metadata": {},
   "outputs": [],
   "source": []
  }
 ],
 "metadata": {
  "kernelspec": {
   "display_name": "Python 3",
   "language": "python",
   "name": "python3"
  },
  "language_info": {
   "codemirror_mode": {
    "name": "ipython",
    "version": 3
   },
   "file_extension": ".py",
   "mimetype": "text/x-python",
   "name": "python",
   "nbconvert_exporter": "python",
   "pygments_lexer": "ipython3",
   "version": "3.9.16"
  },
  "varInspector": {
   "cols": {
    "lenName": 16,
    "lenType": 16,
    "lenVar": 40
   },
   "kernels_config": {
    "python": {
     "delete_cmd_postfix": "",
     "delete_cmd_prefix": "del ",
     "library": "var_list.py",
     "varRefreshCmd": "print(var_dic_list())"
    },
    "r": {
     "delete_cmd_postfix": ") ",
     "delete_cmd_prefix": "rm(",
     "library": "var_list.r",
     "varRefreshCmd": "cat(var_dic_list()) "
    }
   },
   "types_to_exclude": [
    "module",
    "function",
    "builtin_function_or_method",
    "instance",
    "_Feature"
   ],
   "window_display": false
  }
 },
 "nbformat": 4,
 "nbformat_minor": 5
}
