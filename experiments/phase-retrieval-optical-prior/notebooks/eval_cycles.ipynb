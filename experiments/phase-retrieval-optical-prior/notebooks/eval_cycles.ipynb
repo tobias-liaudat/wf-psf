{
 "cells": [
  {
   "cell_type": "code",
   "execution_count": 1,
   "metadata": {},
   "outputs": [],
   "source": [
    "import os\n",
    "os.environ[\"CUDA_VISIBLE_DEVICES\"]=\"0\"\n",
    "\n",
    "import numpy as np\n",
    "import matplotlib.pyplot as plt\n",
    "\n",
    "import wf_psf as wf\n",
    "\n"
   ]
  },
  {
   "cell_type": "code",
   "execution_count": 4,
   "metadata": {},
   "outputs": [],
   "source": [
    "\n",
    "args = {\n",
    "    'id_name': '_wf_PR_12_cycles_02nm_v1_' ,\n",
    "    'suffix_id_name': '_' ,\n",
    "    'base_id_name': '_wf_PR_12_cycles_02nm_v1' ,\n",
    "    'eval_only_param': False ,\n",
    "    'total_cycles': 12 ,\n",
    "    'saved_cycle': 'cycle12' ,\n",
    "    'reset_dd_features': True ,\n",
    "    'eval_only_param': False ,\n",
    "    'project_dd_features': True ,\n",
    "    'd_max': 2 ,\n",
    "    'n_zernikes': 66 ,\n",
    "    'save_all_cycles': True ,\n",
    "    'n_bins_lda': 20,\n",
    "    'n_bins_gt': 20,\n",
    "    'output_dim': 32,\n",
    "    'batch_size': 32,\n",
    "    'oversampling_rate': 3.,\n",
    "    'output_q': 3.,\n",
    "    'sed_sigma': 0.,\n",
    "    'x_lims': [0, 1e3],\n",
    "    'y_lims': [0, 1e3],\n",
    "    'sed_interp_kind': 'linear',\n",
    "    'interp_pts_per_bin': 0,\n",
    "    'extrapolate': True,\n",
    "    'opt_stars_rel_pix_rmse': True ,\n",
    "    'eval_mono_metric_rmse': False,\n",
    "    'eval_opd_metric_rmse': True,\n",
    "    'eval_train_shape_sr_metric_rmse': True,\n",
    "    'pupil_diameter': 256 ,\n",
    "    'n_epochs_param_multi_cycle': \"0\" ,\n",
    "    'n_epochs_non_param_multi_cycle': \"75\" ,\n",
    "    'l_rate_non_param_multi_cycle': \"0.1\" ,\n",
    "    'l_rate_param_multi_cycle': \"0\" ,\n",
    "    'l_rate_param': None,\n",
    "    'l_rate_non_param': None,\n",
    "    'n_epochs_param': None,\n",
    "    'n_epochs_non_param': None,\n",
    "    'model': 'poly_physical' ,\n",
    "    'model_eval': 'physical' ,\n",
    "    'cycle_def': 'complete' ,\n",
    "    'gt_n_zernikes': 66 ,\n",
    "    'd_max_nonparam': 5 ,\n",
    "    'saved_model_type': 'external' ,\n",
    "    'use_sample_weights': True ,\n",
    "    'l2_param': 0. ,\n",
    "    'interpolation_type': 'none' ,\n",
    "    'eval_batch_size': 16 ,\n",
    "    'train_opt': True ,\n",
    "    'eval_opt': True ,\n",
    "    'plot_opt': True ,\n",
    "    'dataset_folder': '/disk/xray0/tl3/datasets/wf-phase-retrieval/euclid_data_sims/data/',\n",
    "    'test_dataset_file': 'test_SFE_02nm_id_11.npy',\n",
    "    'train_dataset_file': 'train_SFE_err_02nm_id_11.npy',\n",
    "    'base_path': '/disk/xray0/tl3/outputs/wf-phase-retrieval-euclid-exp/wf-outputs/',\n",
    "    'metric_base_path': '/disk/xray0/tl3/outputs/wf-phase-retrieval-euclid-exp/wf-outputs/metrics/',\n",
    "    'chkp_save_path': '/disk/xray0/tl3/outputs/wf-phase-retrieval-euclid-exp/wf-outputs/chkp/',\n",
    "    'plots_folder': 'plots/' ,\n",
    "    'model_folder': 'chkp/' ,\n",
    "    'log_folder': 'log-files/' ,\n",
    "    'optim_hist_folder': 'optim-hist/' ,\n",
    "    'star_numbers': 1 ,\n",
    "}\n",
    "\n"
   ]
  },
  {
   "cell_type": "code",
   "execution_count": 7,
   "metadata": {},
   "outputs": [],
   "source": [
    "base_path = '/disk/xray0/tl3/outputs/wf-phase-retrieval-euclid-exp/wf-outputs/'\n",
    "log_folder = 'log-files/'\n",
    "metric_base_path = '/disk/xray0/tl3/outputs/wf-phase-retrieval-euclid-exp/wf-outputs/metrics/'\n",
    "base_chkp_path = '/disk/xray0/tl3/outputs/wf-phase-retrieval-euclid-exp/wf-outputs/chkp/chkp_callback_poly_physical_wf_PR_12_cycles_02nm_v1__'\n",
    "\n",
    "\n",
    "# base_id_name = '_wf_PR_12_cycles_v1_'\n",
    "# eval_cycle = 'cycle1'\n",
    "\n",
    "args['base_path'] = base_path\n",
    "args['log_folder'] = log_folder\n",
    "args['metric_base_path'] = metric_base_path\n",
    "\n",
    "\n"
   ]
  },
  {
   "cell_type": "code",
   "execution_count": 8,
   "metadata": {},
   "outputs": [
    {
     "name": "stdout",
     "output_type": "stream",
     "text": [
      "_wf_PR_12_cycles_02nm_v2cycle1\n"
     ]
    },
    {
     "name": "stderr",
     "output_type": "stream",
     "text": [
      "2023-06-01 15:12:37.610763: I tensorflow/core/common_runtime/gpu/gpu_device.cc:1525] Created device /device:GPU:0 with 32383 MB memory:  -> device: 0, name: NVIDIA A100-PCIE-40GB, pci bus id: 0000:01:00.0, compute capability: 8.0\n",
      "2023-06-01 15:12:41.535387: I tensorflow/stream_executor/cuda/cuda_blas.cc:1774] TensorFloat-32 will be used for the matrix multiplication. This will only be logged once.\n",
      "2023-06-01 15:12:42.461080: I tensorflow/stream_executor/cuda/cuda_dnn.cc:366] Loaded cuDNN version 8201\n"
     ]
    },
    {
     "name": "stdout",
     "output_type": "stream",
     "text": [
      "WARNING:tensorflow:Unresolved object in checkpoint: (root).optimizer.iter\n",
      "WARNING:tensorflow:Unresolved object in checkpoint: (root).optimizer.beta_1\n",
      "WARNING:tensorflow:Unresolved object in checkpoint: (root).optimizer.beta_2\n",
      "WARNING:tensorflow:Unresolved object in checkpoint: (root).optimizer.decay\n",
      "WARNING:tensorflow:Unresolved object in checkpoint: (root).optimizer.learning_rate\n",
      "WARNING:tensorflow:Unresolved object in checkpoint: (root).optimizer.min_lr\n",
      "WARNING:tensorflow:Unresolved object in checkpoint: (root).optimizer.sma_threshold\n",
      "WARNING:tensorflow:Unresolved object in checkpoint: (root).optimizer.total_steps\n",
      "WARNING:tensorflow:Unresolved object in checkpoint: (root).optimizer.warmup_proportion\n",
      "WARNING:tensorflow:Unresolved object in checkpoint: (root).optimizer.weight_decay\n",
      "WARNING:tensorflow:Unresolved object in checkpoint: (root).optimizer's state 'm' for (root).tf_np_poly_opd.S_mat\n",
      "WARNING:tensorflow:Unresolved object in checkpoint: (root).optimizer's state 'm' for (root).tf_np_poly_opd.alpha_mat\n",
      "WARNING:tensorflow:Unresolved object in checkpoint: (root).optimizer's state 'v' for (root).tf_np_poly_opd.S_mat\n",
      "WARNING:tensorflow:Unresolved object in checkpoint: (root).optimizer's state 'v' for (root).tf_np_poly_opd.alpha_mat\n",
      "WARNING:tensorflow:A checkpoint was restored (e.g. tf.train.Checkpoint.restore or tf.keras.Model.load_weights) but not all checkpointed values were used. See above for specific issues. Use expect_partial() on the load status object, e.g. tf.train.Checkpoint.restore(...).expect_partial(), to silence these warnings, or use assert_consumed() to make the check explicit. See https://www.tensorflow.org/guide/checkpoint#loading_mechanics for details.\n",
      "_wf_PR_12_cycles_02nm_v2cycle2\n"
     ]
    },
    {
     "name": "stderr",
     "output_type": "stream",
     "text": [
      "2023-06-01 15:17:35.206677: I tensorflow/core/common_runtime/gpu/gpu_device.cc:1525] Created device /device:GPU:0 with 32383 MB memory:  -> device: 0, name: NVIDIA A100-PCIE-40GB, pci bus id: 0000:01:00.0, compute capability: 8.0\n"
     ]
    },
    {
     "name": "stdout",
     "output_type": "stream",
     "text": [
      "WARNING:tensorflow:Unresolved object in checkpoint: (root).optimizer.iter\n",
      "WARNING:tensorflow:Unresolved object in checkpoint: (root).optimizer.beta_1\n",
      "WARNING:tensorflow:Unresolved object in checkpoint: (root).optimizer.beta_2\n",
      "WARNING:tensorflow:Unresolved object in checkpoint: (root).optimizer.decay\n",
      "WARNING:tensorflow:Unresolved object in checkpoint: (root).optimizer.learning_rate\n",
      "WARNING:tensorflow:Unresolved object in checkpoint: (root).optimizer.min_lr\n",
      "WARNING:tensorflow:Unresolved object in checkpoint: (root).optimizer.sma_threshold\n",
      "WARNING:tensorflow:Unresolved object in checkpoint: (root).optimizer.total_steps\n",
      "WARNING:tensorflow:Unresolved object in checkpoint: (root).optimizer.warmup_proportion\n",
      "WARNING:tensorflow:Unresolved object in checkpoint: (root).optimizer.weight_decay\n",
      "WARNING:tensorflow:Unresolved object in checkpoint: (root).optimizer's state 'm' for (root).tf_np_poly_opd.S_mat\n",
      "WARNING:tensorflow:Unresolved object in checkpoint: (root).optimizer's state 'm' for (root).tf_np_poly_opd.alpha_mat\n",
      "WARNING:tensorflow:Unresolved object in checkpoint: (root).optimizer's state 'v' for (root).tf_np_poly_opd.S_mat\n",
      "WARNING:tensorflow:Unresolved object in checkpoint: (root).optimizer's state 'v' for (root).tf_np_poly_opd.alpha_mat\n",
      "WARNING:tensorflow:A checkpoint was restored (e.g. tf.train.Checkpoint.restore or tf.keras.Model.load_weights) but not all checkpointed values were used. See above for specific issues. Use expect_partial() on the load status object, e.g. tf.train.Checkpoint.restore(...).expect_partial(), to silence these warnings, or use assert_consumed() to make the check explicit. See https://www.tensorflow.org/guide/checkpoint#loading_mechanics for details.\n",
      "_wf_PR_12_cycles_02nm_v2cycle3\n"
     ]
    },
    {
     "name": "stderr",
     "output_type": "stream",
     "text": [
      "2023-06-01 15:22:16.180822: I tensorflow/core/common_runtime/gpu/gpu_device.cc:1525] Created device /device:GPU:0 with 32383 MB memory:  -> device: 0, name: NVIDIA A100-PCIE-40GB, pci bus id: 0000:01:00.0, compute capability: 8.0\n"
     ]
    },
    {
     "name": "stdout",
     "output_type": "stream",
     "text": [
      "WARNING:tensorflow:Unresolved object in checkpoint: (root).optimizer.iter\n",
      "WARNING:tensorflow:Unresolved object in checkpoint: (root).optimizer.beta_1\n",
      "WARNING:tensorflow:Unresolved object in checkpoint: (root).optimizer.beta_2\n",
      "WARNING:tensorflow:Unresolved object in checkpoint: (root).optimizer.decay\n",
      "WARNING:tensorflow:Unresolved object in checkpoint: (root).optimizer.learning_rate\n",
      "WARNING:tensorflow:Unresolved object in checkpoint: (root).optimizer.min_lr\n",
      "WARNING:tensorflow:Unresolved object in checkpoint: (root).optimizer.sma_threshold\n",
      "WARNING:tensorflow:Unresolved object in checkpoint: (root).optimizer.total_steps\n",
      "WARNING:tensorflow:Unresolved object in checkpoint: (root).optimizer.warmup_proportion\n",
      "WARNING:tensorflow:Unresolved object in checkpoint: (root).optimizer.weight_decay\n",
      "WARNING:tensorflow:Unresolved object in checkpoint: (root).optimizer's state 'm' for (root).tf_np_poly_opd.S_mat\n",
      "WARNING:tensorflow:Unresolved object in checkpoint: (root).optimizer's state 'm' for (root).tf_np_poly_opd.alpha_mat\n",
      "WARNING:tensorflow:Unresolved object in checkpoint: (root).optimizer's state 'v' for (root).tf_np_poly_opd.S_mat\n",
      "WARNING:tensorflow:Unresolved object in checkpoint: (root).optimizer's state 'v' for (root).tf_np_poly_opd.alpha_mat\n",
      "WARNING:tensorflow:A checkpoint was restored (e.g. tf.train.Checkpoint.restore or tf.keras.Model.load_weights) but not all checkpointed values were used. See above for specific issues. Use expect_partial() on the load status object, e.g. tf.train.Checkpoint.restore(...).expect_partial(), to silence these warnings, or use assert_consumed() to make the check explicit. See https://www.tensorflow.org/guide/checkpoint#loading_mechanics for details.\n",
      "_wf_PR_12_cycles_02nm_v2cycle4\n"
     ]
    },
    {
     "name": "stderr",
     "output_type": "stream",
     "text": [
      "2023-06-01 15:27:11.448771: I tensorflow/core/common_runtime/gpu/gpu_device.cc:1525] Created device /device:GPU:0 with 32383 MB memory:  -> device: 0, name: NVIDIA A100-PCIE-40GB, pci bus id: 0000:01:00.0, compute capability: 8.0\n"
     ]
    },
    {
     "name": "stdout",
     "output_type": "stream",
     "text": [
      "WARNING:tensorflow:Unresolved object in checkpoint: (root).optimizer.iter\n",
      "WARNING:tensorflow:Unresolved object in checkpoint: (root).optimizer.beta_1\n",
      "WARNING:tensorflow:Unresolved object in checkpoint: (root).optimizer.beta_2\n",
      "WARNING:tensorflow:Unresolved object in checkpoint: (root).optimizer.decay\n",
      "WARNING:tensorflow:Unresolved object in checkpoint: (root).optimizer.learning_rate\n",
      "WARNING:tensorflow:Unresolved object in checkpoint: (root).optimizer.min_lr\n",
      "WARNING:tensorflow:Unresolved object in checkpoint: (root).optimizer.sma_threshold\n",
      "WARNING:tensorflow:Unresolved object in checkpoint: (root).optimizer.total_steps\n",
      "WARNING:tensorflow:Unresolved object in checkpoint: (root).optimizer.warmup_proportion\n",
      "WARNING:tensorflow:Unresolved object in checkpoint: (root).optimizer.weight_decay\n",
      "WARNING:tensorflow:Unresolved object in checkpoint: (root).optimizer's state 'm' for (root).tf_np_poly_opd.S_mat\n",
      "WARNING:tensorflow:Unresolved object in checkpoint: (root).optimizer's state 'm' for (root).tf_np_poly_opd.alpha_mat\n",
      "WARNING:tensorflow:Unresolved object in checkpoint: (root).optimizer's state 'v' for (root).tf_np_poly_opd.S_mat\n",
      "WARNING:tensorflow:Unresolved object in checkpoint: (root).optimizer's state 'v' for (root).tf_np_poly_opd.alpha_mat\n",
      "WARNING:tensorflow:A checkpoint was restored (e.g. tf.train.Checkpoint.restore or tf.keras.Model.load_weights) but not all checkpointed values were used. See above for specific issues. Use expect_partial() on the load status object, e.g. tf.train.Checkpoint.restore(...).expect_partial(), to silence these warnings, or use assert_consumed() to make the check explicit. See https://www.tensorflow.org/guide/checkpoint#loading_mechanics for details.\n",
      "_wf_PR_12_cycles_02nm_v2cycle5\n"
     ]
    },
    {
     "name": "stderr",
     "output_type": "stream",
     "text": [
      "2023-06-01 15:31:58.640987: I tensorflow/core/common_runtime/gpu/gpu_device.cc:1525] Created device /device:GPU:0 with 32383 MB memory:  -> device: 0, name: NVIDIA A100-PCIE-40GB, pci bus id: 0000:01:00.0, compute capability: 8.0\n"
     ]
    },
    {
     "name": "stdout",
     "output_type": "stream",
     "text": [
      "WARNING:tensorflow:Unresolved object in checkpoint: (root).optimizer.iter\n",
      "WARNING:tensorflow:Unresolved object in checkpoint: (root).optimizer.beta_1\n",
      "WARNING:tensorflow:Unresolved object in checkpoint: (root).optimizer.beta_2\n",
      "WARNING:tensorflow:Unresolved object in checkpoint: (root).optimizer.decay\n",
      "WARNING:tensorflow:Unresolved object in checkpoint: (root).optimizer.learning_rate\n",
      "WARNING:tensorflow:Unresolved object in checkpoint: (root).optimizer.min_lr\n",
      "WARNING:tensorflow:Unresolved object in checkpoint: (root).optimizer.sma_threshold\n",
      "WARNING:tensorflow:Unresolved object in checkpoint: (root).optimizer.total_steps\n",
      "WARNING:tensorflow:Unresolved object in checkpoint: (root).optimizer.warmup_proportion\n",
      "WARNING:tensorflow:Unresolved object in checkpoint: (root).optimizer.weight_decay\n",
      "WARNING:tensorflow:Unresolved object in checkpoint: (root).optimizer's state 'm' for (root).tf_np_poly_opd.S_mat\n",
      "WARNING:tensorflow:Unresolved object in checkpoint: (root).optimizer's state 'm' for (root).tf_np_poly_opd.alpha_mat\n",
      "WARNING:tensorflow:Unresolved object in checkpoint: (root).optimizer's state 'v' for (root).tf_np_poly_opd.S_mat\n",
      "WARNING:tensorflow:Unresolved object in checkpoint: (root).optimizer's state 'v' for (root).tf_np_poly_opd.alpha_mat\n",
      "WARNING:tensorflow:A checkpoint was restored (e.g. tf.train.Checkpoint.restore or tf.keras.Model.load_weights) but not all checkpointed values were used. See above for specific issues. Use expect_partial() on the load status object, e.g. tf.train.Checkpoint.restore(...).expect_partial(), to silence these warnings, or use assert_consumed() to make the check explicit. See https://www.tensorflow.org/guide/checkpoint#loading_mechanics for details.\n",
      "_wf_PR_12_cycles_02nm_v2cycle6\n"
     ]
    },
    {
     "name": "stderr",
     "output_type": "stream",
     "text": [
      "2023-06-01 15:36:40.060881: I tensorflow/core/common_runtime/gpu/gpu_device.cc:1525] Created device /device:GPU:0 with 32383 MB memory:  -> device: 0, name: NVIDIA A100-PCIE-40GB, pci bus id: 0000:01:00.0, compute capability: 8.0\n"
     ]
    },
    {
     "name": "stdout",
     "output_type": "stream",
     "text": [
      "WARNING:tensorflow:Unresolved object in checkpoint: (root).optimizer.iter\n",
      "WARNING:tensorflow:Unresolved object in checkpoint: (root).optimizer.beta_1\n",
      "WARNING:tensorflow:Unresolved object in checkpoint: (root).optimizer.beta_2\n",
      "WARNING:tensorflow:Unresolved object in checkpoint: (root).optimizer.decay\n",
      "WARNING:tensorflow:Unresolved object in checkpoint: (root).optimizer.learning_rate\n",
      "WARNING:tensorflow:Unresolved object in checkpoint: (root).optimizer.min_lr\n",
      "WARNING:tensorflow:Unresolved object in checkpoint: (root).optimizer.sma_threshold\n",
      "WARNING:tensorflow:Unresolved object in checkpoint: (root).optimizer.total_steps\n",
      "WARNING:tensorflow:Unresolved object in checkpoint: (root).optimizer.warmup_proportion\n",
      "WARNING:tensorflow:Unresolved object in checkpoint: (root).optimizer.weight_decay\n",
      "WARNING:tensorflow:Unresolved object in checkpoint: (root).optimizer's state 'm' for (root).tf_np_poly_opd.S_mat\n",
      "WARNING:tensorflow:Unresolved object in checkpoint: (root).optimizer's state 'm' for (root).tf_np_poly_opd.alpha_mat\n",
      "WARNING:tensorflow:Unresolved object in checkpoint: (root).optimizer's state 'v' for (root).tf_np_poly_opd.S_mat\n",
      "WARNING:tensorflow:Unresolved object in checkpoint: (root).optimizer's state 'v' for (root).tf_np_poly_opd.alpha_mat\n",
      "WARNING:tensorflow:A checkpoint was restored (e.g. tf.train.Checkpoint.restore or tf.keras.Model.load_weights) but not all checkpointed values were used. See above for specific issues. Use expect_partial() on the load status object, e.g. tf.train.Checkpoint.restore(...).expect_partial(), to silence these warnings, or use assert_consumed() to make the check explicit. See https://www.tensorflow.org/guide/checkpoint#loading_mechanics for details.\n",
      "_wf_PR_12_cycles_02nm_v2cycle7\n"
     ]
    },
    {
     "name": "stderr",
     "output_type": "stream",
     "text": [
      "2023-06-01 15:41:30.450252: I tensorflow/core/common_runtime/gpu/gpu_device.cc:1525] Created device /device:GPU:0 with 32383 MB memory:  -> device: 0, name: NVIDIA A100-PCIE-40GB, pci bus id: 0000:01:00.0, compute capability: 8.0\n"
     ]
    },
    {
     "name": "stdout",
     "output_type": "stream",
     "text": [
      "WARNING:tensorflow:Unresolved object in checkpoint: (root).optimizer.iter\n",
      "WARNING:tensorflow:Unresolved object in checkpoint: (root).optimizer.beta_1\n",
      "WARNING:tensorflow:Unresolved object in checkpoint: (root).optimizer.beta_2\n",
      "WARNING:tensorflow:Unresolved object in checkpoint: (root).optimizer.decay\n",
      "WARNING:tensorflow:Unresolved object in checkpoint: (root).optimizer.learning_rate\n",
      "WARNING:tensorflow:Unresolved object in checkpoint: (root).optimizer.min_lr\n",
      "WARNING:tensorflow:Unresolved object in checkpoint: (root).optimizer.sma_threshold\n",
      "WARNING:tensorflow:Unresolved object in checkpoint: (root).optimizer.total_steps\n",
      "WARNING:tensorflow:Unresolved object in checkpoint: (root).optimizer.warmup_proportion\n",
      "WARNING:tensorflow:Unresolved object in checkpoint: (root).optimizer.weight_decay\n",
      "WARNING:tensorflow:Unresolved object in checkpoint: (root).optimizer's state 'm' for (root).tf_np_poly_opd.S_mat\n",
      "WARNING:tensorflow:Unresolved object in checkpoint: (root).optimizer's state 'm' for (root).tf_np_poly_opd.alpha_mat\n",
      "WARNING:tensorflow:Unresolved object in checkpoint: (root).optimizer's state 'v' for (root).tf_np_poly_opd.S_mat\n",
      "WARNING:tensorflow:Unresolved object in checkpoint: (root).optimizer's state 'v' for (root).tf_np_poly_opd.alpha_mat\n",
      "WARNING:tensorflow:A checkpoint was restored (e.g. tf.train.Checkpoint.restore or tf.keras.Model.load_weights) but not all checkpointed values were used. See above for specific issues. Use expect_partial() on the load status object, e.g. tf.train.Checkpoint.restore(...).expect_partial(), to silence these warnings, or use assert_consumed() to make the check explicit. See https://www.tensorflow.org/guide/checkpoint#loading_mechanics for details.\n",
      "_wf_PR_12_cycles_02nm_v2cycle8\n"
     ]
    },
    {
     "name": "stderr",
     "output_type": "stream",
     "text": [
      "2023-06-01 15:46:10.291255: I tensorflow/core/common_runtime/gpu/gpu_device.cc:1525] Created device /device:GPU:0 with 32383 MB memory:  -> device: 0, name: NVIDIA A100-PCIE-40GB, pci bus id: 0000:01:00.0, compute capability: 8.0\n"
     ]
    },
    {
     "name": "stdout",
     "output_type": "stream",
     "text": [
      "WARNING:tensorflow:Unresolved object in checkpoint: (root).optimizer.iter\n",
      "WARNING:tensorflow:Unresolved object in checkpoint: (root).optimizer.beta_1\n",
      "WARNING:tensorflow:Unresolved object in checkpoint: (root).optimizer.beta_2\n",
      "WARNING:tensorflow:Unresolved object in checkpoint: (root).optimizer.decay\n",
      "WARNING:tensorflow:Unresolved object in checkpoint: (root).optimizer.learning_rate\n",
      "WARNING:tensorflow:Unresolved object in checkpoint: (root).optimizer.min_lr\n",
      "WARNING:tensorflow:Unresolved object in checkpoint: (root).optimizer.sma_threshold\n",
      "WARNING:tensorflow:Unresolved object in checkpoint: (root).optimizer.total_steps\n",
      "WARNING:tensorflow:Unresolved object in checkpoint: (root).optimizer.warmup_proportion\n",
      "WARNING:tensorflow:Unresolved object in checkpoint: (root).optimizer.weight_decay\n",
      "WARNING:tensorflow:Unresolved object in checkpoint: (root).optimizer's state 'm' for (root).tf_np_poly_opd.S_mat\n",
      "WARNING:tensorflow:Unresolved object in checkpoint: (root).optimizer's state 'm' for (root).tf_np_poly_opd.alpha_mat\n",
      "WARNING:tensorflow:Unresolved object in checkpoint: (root).optimizer's state 'v' for (root).tf_np_poly_opd.S_mat\n",
      "WARNING:tensorflow:Unresolved object in checkpoint: (root).optimizer's state 'v' for (root).tf_np_poly_opd.alpha_mat\n",
      "WARNING:tensorflow:A checkpoint was restored (e.g. tf.train.Checkpoint.restore or tf.keras.Model.load_weights) but not all checkpointed values were used. See above for specific issues. Use expect_partial() on the load status object, e.g. tf.train.Checkpoint.restore(...).expect_partial(), to silence these warnings, or use assert_consumed() to make the check explicit. See https://www.tensorflow.org/guide/checkpoint#loading_mechanics for details.\n"
     ]
    }
   ],
   "source": [
    "base_id_name_list = [\n",
    "    '_wf_PR_12_cycles_02nm_v1',\n",
    "    '_wf_PR_12_cycles_10nm_v1',\n",
    "]\n",
    "base_chkp_path_list = [\n",
    "    '/disk/xray0/tl3/outputs/wf-phase-retrieval-euclid-exp/wf-outputs/chkp/chkp_callback_poly_physical_wf_PR_12_cycles_02nm_v1__',\n",
    "    '/disk/xray0/tl3/outputs/wf-phase-retrieval-euclid-exp/wf-outputs/chkp/chkp_callback_poly_physical_wf_PR_12_cycles_10nm_v1__',\n",
    "]\n",
    "eval_cycle_base_id_list = [12,12] # [16]# [12,18]# [12,12,12,18]\n",
    "\n",
    "# Iterate over the base_ids\n",
    "for base_id, base_chkp_path, total_cycles in zip(base_id_name_list, base_chkp_path_list, eval_cycle_base_id_list):\n",
    "    # Define the list of cycles\n",
    "    eval_cycle_list = np.arange(1,total_cycles+1)\n",
    "\n",
    "    # if base_id == '_wf_PR_12_cycles_v1_Zk60_':\n",
    "    #     args['n_zernikes'] = 60\n",
    "    # else:\n",
    "    #     args['n_zernikes'] = 45\n",
    "\n",
    "    # Iterate over the cycles\n",
    "    for eval_cycle in eval_cycle_list:\n",
    "\n",
    "        args['chkp_save_path'] = base_chkp_path + 'cycle' + str(eval_cycle)\n",
    "        args['id_name'] = base_id + 'cycle' + str(eval_cycle)\n",
    "\n",
    "        print(args['id_name'])\n",
    "        # print(args['chkp_save_path'])\n",
    "\n",
    "        # Process args\n",
    "        args_2 = wf.utils.load_multi_cycle_params_click(args)\n",
    "        # Run evaluations\n",
    "        wf.script_utils.evaluate_model(**args_2)\n",
    "\n",
    "\n"
   ]
  },
  {
   "cell_type": "code",
   "execution_count": null,
   "metadata": {},
   "outputs": [
    {
     "data": {
      "text/plain": [
       "'3'"
      ]
     },
     "execution_count": 21,
     "metadata": {},
     "output_type": "execute_result"
    }
   ],
   "source": [
    "\n",
    "str(np.arange(1,13)[2])\n"
   ]
  },
  {
   "cell_type": "code",
   "execution_count": null,
   "metadata": {},
   "outputs": [],
   "source": [
    "\n",
    "\n",
    "\n",
    "\n"
   ]
  },
  {
   "cell_type": "code",
   "execution_count": null,
   "metadata": {},
   "outputs": [],
   "source": []
  },
  {
   "cell_type": "code",
   "execution_count": null,
   "metadata": {},
   "outputs": [],
   "source": []
  },
  {
   "cell_type": "code",
   "execution_count": null,
   "metadata": {},
   "outputs": [],
   "source": []
  },
  {
   "cell_type": "code",
   "execution_count": null,
   "metadata": {},
   "outputs": [],
   "source": []
  }
 ],
 "metadata": {
  "interpreter": {
   "hash": "31f2aee4e71d21fbe5cf8b01ff0e069b9275f58929596ceb00d14d90e3e16cd6"
  },
  "kernelspec": {
   "display_name": "Python 3.8.2 64-bit",
   "language": "python",
   "name": "python3"
  },
  "language_info": {
   "codemirror_mode": {
    "name": "ipython",
    "version": 3
   },
   "file_extension": ".py",
   "mimetype": "text/x-python",
   "name": "python",
   "nbconvert_exporter": "python",
   "pygments_lexer": "ipython3",
   "version": "3.9.12"
  },
  "orig_nbformat": 4
 },
 "nbformat": 4,
 "nbformat_minor": 2
}
